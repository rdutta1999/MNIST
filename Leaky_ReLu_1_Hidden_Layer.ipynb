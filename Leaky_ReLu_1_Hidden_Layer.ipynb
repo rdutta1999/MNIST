{
 "cells": [
  {
   "cell_type": "markdown",
   "metadata": {},
   "source": [
    "# Setting up the Environment"
   ]
  },
  {
   "cell_type": "code",
   "execution_count": 1,
   "metadata": {
    "colab": {
     "base_uri": "https://localhost:8080/",
     "height": 34
    },
    "colab_type": "code",
    "id": "RMR9De-8q7k1",
    "outputId": "8bc71f74-eb3e-4853-a9fb-507c2092ef9c"
   },
   "outputs": [],
   "source": [
    "import numpy as np\n",
    "import pandas as pd"
   ]
  },
  {
   "cell_type": "markdown",
   "metadata": {},
   "source": [
    "# Getting the Data"
   ]
  },
  {
   "cell_type": "code",
   "execution_count": 2,
   "metadata": {
    "colab": {},
    "colab_type": "code",
    "id": "LPJfH5wwi5cH",
    "scrolled": true
   },
   "outputs": [
    {
     "data": {
      "text/html": [
       "<div>\n",
       "<style scoped>\n",
       "    .dataframe tbody tr th:only-of-type {\n",
       "        vertical-align: middle;\n",
       "    }\n",
       "\n",
       "    .dataframe tbody tr th {\n",
       "        vertical-align: top;\n",
       "    }\n",
       "\n",
       "    .dataframe thead th {\n",
       "        text-align: right;\n",
       "    }\n",
       "</style>\n",
       "<table border=\"1\" class=\"dataframe\">\n",
       "  <thead>\n",
       "    <tr style=\"text-align: right;\">\n",
       "      <th></th>\n",
       "      <th>label</th>\n",
       "      <th>pixel0</th>\n",
       "      <th>pixel1</th>\n",
       "      <th>pixel2</th>\n",
       "      <th>pixel3</th>\n",
       "      <th>pixel4</th>\n",
       "      <th>pixel5</th>\n",
       "      <th>pixel6</th>\n",
       "      <th>pixel7</th>\n",
       "      <th>pixel8</th>\n",
       "      <th>...</th>\n",
       "      <th>pixel774</th>\n",
       "      <th>pixel775</th>\n",
       "      <th>pixel776</th>\n",
       "      <th>pixel777</th>\n",
       "      <th>pixel778</th>\n",
       "      <th>pixel779</th>\n",
       "      <th>pixel780</th>\n",
       "      <th>pixel781</th>\n",
       "      <th>pixel782</th>\n",
       "      <th>pixel783</th>\n",
       "    </tr>\n",
       "  </thead>\n",
       "  <tbody>\n",
       "    <tr>\n",
       "      <th>0</th>\n",
       "      <td>1</td>\n",
       "      <td>0</td>\n",
       "      <td>0</td>\n",
       "      <td>0</td>\n",
       "      <td>0</td>\n",
       "      <td>0</td>\n",
       "      <td>0</td>\n",
       "      <td>0</td>\n",
       "      <td>0</td>\n",
       "      <td>0</td>\n",
       "      <td>...</td>\n",
       "      <td>0</td>\n",
       "      <td>0</td>\n",
       "      <td>0</td>\n",
       "      <td>0</td>\n",
       "      <td>0</td>\n",
       "      <td>0</td>\n",
       "      <td>0</td>\n",
       "      <td>0</td>\n",
       "      <td>0</td>\n",
       "      <td>0</td>\n",
       "    </tr>\n",
       "    <tr>\n",
       "      <th>1</th>\n",
       "      <td>0</td>\n",
       "      <td>0</td>\n",
       "      <td>0</td>\n",
       "      <td>0</td>\n",
       "      <td>0</td>\n",
       "      <td>0</td>\n",
       "      <td>0</td>\n",
       "      <td>0</td>\n",
       "      <td>0</td>\n",
       "      <td>0</td>\n",
       "      <td>...</td>\n",
       "      <td>0</td>\n",
       "      <td>0</td>\n",
       "      <td>0</td>\n",
       "      <td>0</td>\n",
       "      <td>0</td>\n",
       "      <td>0</td>\n",
       "      <td>0</td>\n",
       "      <td>0</td>\n",
       "      <td>0</td>\n",
       "      <td>0</td>\n",
       "    </tr>\n",
       "    <tr>\n",
       "      <th>2</th>\n",
       "      <td>1</td>\n",
       "      <td>0</td>\n",
       "      <td>0</td>\n",
       "      <td>0</td>\n",
       "      <td>0</td>\n",
       "      <td>0</td>\n",
       "      <td>0</td>\n",
       "      <td>0</td>\n",
       "      <td>0</td>\n",
       "      <td>0</td>\n",
       "      <td>...</td>\n",
       "      <td>0</td>\n",
       "      <td>0</td>\n",
       "      <td>0</td>\n",
       "      <td>0</td>\n",
       "      <td>0</td>\n",
       "      <td>0</td>\n",
       "      <td>0</td>\n",
       "      <td>0</td>\n",
       "      <td>0</td>\n",
       "      <td>0</td>\n",
       "    </tr>\n",
       "    <tr>\n",
       "      <th>3</th>\n",
       "      <td>4</td>\n",
       "      <td>0</td>\n",
       "      <td>0</td>\n",
       "      <td>0</td>\n",
       "      <td>0</td>\n",
       "      <td>0</td>\n",
       "      <td>0</td>\n",
       "      <td>0</td>\n",
       "      <td>0</td>\n",
       "      <td>0</td>\n",
       "      <td>...</td>\n",
       "      <td>0</td>\n",
       "      <td>0</td>\n",
       "      <td>0</td>\n",
       "      <td>0</td>\n",
       "      <td>0</td>\n",
       "      <td>0</td>\n",
       "      <td>0</td>\n",
       "      <td>0</td>\n",
       "      <td>0</td>\n",
       "      <td>0</td>\n",
       "    </tr>\n",
       "    <tr>\n",
       "      <th>4</th>\n",
       "      <td>0</td>\n",
       "      <td>0</td>\n",
       "      <td>0</td>\n",
       "      <td>0</td>\n",
       "      <td>0</td>\n",
       "      <td>0</td>\n",
       "      <td>0</td>\n",
       "      <td>0</td>\n",
       "      <td>0</td>\n",
       "      <td>0</td>\n",
       "      <td>...</td>\n",
       "      <td>0</td>\n",
       "      <td>0</td>\n",
       "      <td>0</td>\n",
       "      <td>0</td>\n",
       "      <td>0</td>\n",
       "      <td>0</td>\n",
       "      <td>0</td>\n",
       "      <td>0</td>\n",
       "      <td>0</td>\n",
       "      <td>0</td>\n",
       "    </tr>\n",
       "  </tbody>\n",
       "</table>\n",
       "<p>5 rows × 785 columns</p>\n",
       "</div>"
      ],
      "text/plain": [
       "   label  pixel0  pixel1  pixel2  pixel3  pixel4  pixel5  pixel6  pixel7  \\\n",
       "0      1       0       0       0       0       0       0       0       0   \n",
       "1      0       0       0       0       0       0       0       0       0   \n",
       "2      1       0       0       0       0       0       0       0       0   \n",
       "3      4       0       0       0       0       0       0       0       0   \n",
       "4      0       0       0       0       0       0       0       0       0   \n",
       "\n",
       "   pixel8  ...  pixel774  pixel775  pixel776  pixel777  pixel778  pixel779  \\\n",
       "0       0  ...         0         0         0         0         0         0   \n",
       "1       0  ...         0         0         0         0         0         0   \n",
       "2       0  ...         0         0         0         0         0         0   \n",
       "3       0  ...         0         0         0         0         0         0   \n",
       "4       0  ...         0         0         0         0         0         0   \n",
       "\n",
       "   pixel780  pixel781  pixel782  pixel783  \n",
       "0         0         0         0         0  \n",
       "1         0         0         0         0  \n",
       "2         0         0         0         0  \n",
       "3         0         0         0         0  \n",
       "4         0         0         0         0  \n",
       "\n",
       "[5 rows x 785 columns]"
      ]
     },
     "execution_count": 2,
     "metadata": {},
     "output_type": "execute_result"
    }
   ],
   "source": [
    "data = pd.read_csv(\"./train.csv\")\n",
    "data.sample(frac = 1).reset_index(drop = True)\n",
    "data.head()"
   ]
  },
  {
   "cell_type": "code",
   "execution_count": 3,
   "metadata": {},
   "outputs": [
    {
     "name": "stdout",
     "output_type": "stream",
     "text": [
      "No of Examples:  42000\n"
     ]
    }
   ],
   "source": [
    "print(\"No of Examples: \", data.shape[0])"
   ]
  },
  {
   "cell_type": "markdown",
   "metadata": {},
   "source": [
    "# Splitting the Data into Train and Validation"
   ]
  },
  {
   "cell_type": "code",
   "execution_count": 4,
   "metadata": {},
   "outputs": [],
   "source": [
    "train_data = data.iloc[:33600]\n",
    "valid_data = data.iloc[33600:]"
   ]
  },
  {
   "cell_type": "code",
   "execution_count": 5,
   "metadata": {},
   "outputs": [
    {
     "name": "stdout",
     "output_type": "stream",
     "text": [
      "(33600, 785)\n",
      "(8400, 785)\n"
     ]
    }
   ],
   "source": [
    "print(train_data.shape)\n",
    "print(valid_data.shape)"
   ]
  },
  {
   "cell_type": "code",
   "execution_count": 6,
   "metadata": {},
   "outputs": [],
   "source": [
    "X_train = train_data.iloc[:,1:].reset_index(drop = True)\n",
    "y_train = train_data.iloc[:,0].reset_index(drop = True)\n",
    "\n",
    "X_valid = valid_data.iloc[:,1:].reset_index(drop = True)\n",
    "y_valid = valid_data.iloc[:,0].reset_index(drop = True)"
   ]
  },
  {
   "cell_type": "code",
   "execution_count": 7,
   "metadata": {
    "scrolled": false
   },
   "outputs": [
    {
     "name": "stdout",
     "output_type": "stream",
     "text": [
      "X_train :  (33600, 784)\n",
      "y_train :  (33600,)\n",
      "X_valid :  (8400, 784)\n",
      "y_valid :  (8400,)\n"
     ]
    }
   ],
   "source": [
    "print(\"X_train : \", X_train.shape)\n",
    "print(\"y_train : \", y_train.shape)\n",
    "print(\"X_valid : \", X_valid.shape)\n",
    "print(\"y_valid : \", y_valid.shape)"
   ]
  },
  {
   "cell_type": "markdown",
   "metadata": {},
   "source": [
    "# Getting the Train Input and labels into Shape"
   ]
  },
  {
   "cell_type": "code",
   "execution_count": 8,
   "metadata": {},
   "outputs": [],
   "source": [
    "X_train = X_train.to_numpy().transpose()"
   ]
  },
  {
   "cell_type": "code",
   "execution_count": 9,
   "metadata": {},
   "outputs": [],
   "source": [
    "# One Hot Encoding the Labels\n",
    "label_mat = np.zeros((10, y_train.shape[0]))\n",
    "\n",
    "for i in range(y_train.shape[0]):\n",
    "    label_mat[y_train[i]][i] = 1\n",
    "    \n",
    "y_train_onehot = label_mat"
   ]
  },
  {
   "cell_type": "code",
   "execution_count": 10,
   "metadata": {},
   "outputs": [
    {
     "name": "stdout",
     "output_type": "stream",
     "text": [
      "X_train :  (784, 33600)\n",
      "y_train :  (10, 33600)\n"
     ]
    }
   ],
   "source": [
    "print(\"X_train : \", X_train.shape)\n",
    "print(\"y_train : \", y_train_onehot.shape)"
   ]
  },
  {
   "cell_type": "markdown",
   "metadata": {},
   "source": [
    "# Rescaling the Train Input"
   ]
  },
  {
   "cell_type": "code",
   "execution_count": 11,
   "metadata": {},
   "outputs": [],
   "source": [
    "X_train = X_train / 255"
   ]
  },
  {
   "cell_type": "markdown",
   "metadata": {},
   "source": [
    "# Modelling the Neural Network and Functions"
   ]
  },
  {
   "cell_type": "code",
   "execution_count": 12,
   "metadata": {
    "colab": {},
    "colab_type": "code",
    "id": "A4RBnKQYcBVp"
   },
   "outputs": [],
   "source": [
    "def sigmoid(x):\n",
    "    return 1.0/(1+ np.exp(-x))\n",
    "  \n",
    "def leaky_relu(x):\n",
    "    xrr=np.array( [ [ x[i][j] if (x[i][j]>=0) else 0.01 * x[i][j] for i in range(x.shape[0]) ]for j in range(x.shape[1]) ] )\n",
    "    return xrr.T\n",
    "  \n",
    "def leaky_relu_derivative(x):\n",
    "    xrr_deriv = np.array( [ [ 1 if (x[i][j]>=0) else 0.01 for i in range(x.shape[0]) ]for j in range(x.shape[1]) ] )\n",
    "    return xrr_deriv.T\n",
    "\n",
    "  \n",
    "def init_param(x, h, y):\n",
    "    np.random.seed(7)\n",
    "    w1 = np.random.randn(h, x) * 0.05\n",
    "    b1 = np.zeros(shape=(h, 1))\n",
    "    w2 = np.random.randn(y, h) * 0.05\n",
    "    b2 = np.zeros(shape=(y, 1))\n",
    "    parameters = {\"Weight_1\": w1,\"Bias_1\": b1,\"Weight_2\": w2,\"Bias_2\": b2}\n",
    "    return parameters\n",
    "\n",
    "def feedforward(X, parameters):\n",
    "    w1 = parameters['Weight_1']\n",
    "    b1 = parameters['Bias_1']\n",
    "    w2 = parameters['Weight_2']\n",
    "    b2 = parameters['Bias_2']\n",
    "    z1 = np.dot(w1, X) + b1\n",
    "    a1 = leaky_relu(z1)\n",
    "    z2 = np.dot(w2, a1) + b2\n",
    "    a2 = sigmoid(z2)\n",
    "    values = {\"Z1\": z1,\"A1\": a1,\"Z2\": z2,\"A2\": a2}\n",
    "    return a2, values\n",
    "\n",
    "def cost_func(a2, Y):\n",
    "    m = Y.shape[1] \n",
    "    logloss = np.multiply(Y,np.log(a2)) + np.multiply((1 - Y), np.log(1 - a2))\n",
    "    cost = - np.sum(logloss) / m\n",
    "    cost = np.squeeze(cost)  \n",
    "    return cost\n",
    "\n",
    "def backprop(parameters, values, X, Y):\n",
    "    m = X.shape[1]\n",
    "    w1 = parameters['Weight_1']\n",
    "    w2 = parameters['Weight_2']\n",
    "    a1 = values['A1']\n",
    "    a2 = values['A2']\n",
    "    error2 = a2 - Y\n",
    "    grad_w2 = (1 / m) * np.dot(error2, a1.T)\n",
    "    grad_b2 = (1 / m) * np.sum(error2, axis=1, keepdims=True)\n",
    "    error1 = np.multiply(np.dot(w2.T, error2), leaky_relu_derivative(a1))\n",
    "    grad_w1 = (1 / m) * np.dot(error1, X.T)\n",
    "    grad_b1 = (1 / m) * np.sum(error1, axis=1, keepdims=True)\n",
    "    grads = {\"GRAD_W1\": grad_w1,\"GRAD_B1\": grad_b1,\"GRAD_W2\": grad_w2,\"GRAD_B2\": grad_b2}\n",
    "    return grads\n",
    "\n",
    "def update_param(parameters, grads, alpha = 0.05):\n",
    "    w1 = parameters['Weight_1']\n",
    "    b1 = parameters['Bias_1']\n",
    "    w2 = parameters['Weight_2']\n",
    "    b2 = parameters['Bias_2']\n",
    "    grad_w1 = grads['GRAD_W1']\n",
    "    grad_b1 = grads['GRAD_B1']\n",
    "    grad_w2 = grads['GRAD_W2']\n",
    "    grad_b2 = grads['GRAD_B2']\n",
    "    w1 = w1 - alpha * grad_w1\n",
    "    b1 = b1 - alpha * grad_b1\n",
    "    w2 = w2 - alpha * grad_w2\n",
    "    b2 = b2 - alpha * grad_b2\n",
    "    parameters = {\"Weight_1\": w1,\"Bias_1\": b1,\"Weight_2\": w2,\"Bias_2\": b2}\n",
    "    return parameters"
   ]
  },
  {
   "cell_type": "markdown",
   "metadata": {},
   "source": [
    "# Training the Model"
   ]
  },
  {
   "cell_type": "code",
   "execution_count": 13,
   "metadata": {},
   "outputs": [
    {
     "name": "stdout",
     "output_type": "stream",
     "text": [
      "No of Training Examples:  33600\n",
      "No of Pixels in each image:  784\n"
     ]
    }
   ],
   "source": [
    "n, m = X_train.shape\n",
    "print(\"No of Training Examples: \", m)\n",
    "print(\"No of Pixels in each image: \", n)"
   ]
  },
  {
   "cell_type": "code",
   "execution_count": 14,
   "metadata": {},
   "outputs": [],
   "source": [
    "hidden_units = 500\n",
    "output_units = 10\n",
    "learning_rate = 0.1\n",
    "epochs = 1500"
   ]
  },
  {
   "cell_type": "code",
   "execution_count": 15,
   "metadata": {
    "colab": {
     "base_uri": "https://localhost:8080/",
     "height": 1697
    },
    "colab_type": "code",
    "id": "q6Yc29TgbvKE",
    "outputId": "9fb361b2-4adb-4a4f-e163-177e2c0f8a58"
   },
   "outputs": [
    {
     "name": "stdout",
     "output_type": "stream",
     "text": [
      "Iteration:  0 ---> Cost:  7.004992045159023\n",
      "Iteration:  10 ---> Cost:  2.5610165115386834\n",
      "Iteration:  20 ---> Cost:  1.9824854667393503\n",
      "Iteration:  30 ---> Cost:  1.6453224751450652\n",
      "Iteration:  40 ---> Cost:  1.440550232597137\n",
      "Iteration:  50 ---> Cost:  1.3037581486585244\n",
      "Iteration:  60 ---> Cost:  1.2051056804829217\n",
      "Iteration:  70 ---> Cost:  1.1299703768414786\n",
      "Iteration:  80 ---> Cost:  1.0704825949041197\n",
      "Iteration:  90 ---> Cost:  1.0219560965054715\n",
      "Iteration:  100 ---> Cost:  0.9814180877008539\n",
      "Iteration:  110 ---> Cost:  0.9468892315470652\n",
      "Iteration:  120 ---> Cost:  0.9170042226440303\n",
      "Iteration:  130 ---> Cost:  0.8907860863012644\n",
      "Iteration:  140 ---> Cost:  0.867505418865495\n",
      "Iteration:  150 ---> Cost:  0.846625733813122\n",
      "Iteration:  160 ---> Cost:  0.8277272799074561\n",
      "Iteration:  170 ---> Cost:  0.810494300925325\n",
      "Iteration:  180 ---> Cost:  0.79467552275459\n",
      "Iteration:  190 ---> Cost:  0.7800614985383578\n",
      "Iteration:  200 ---> Cost:  0.7664779863799969\n",
      "Iteration:  210 ---> Cost:  0.7538067950908655\n",
      "Iteration:  220 ---> Cost:  0.7419323976251734\n",
      "Iteration:  230 ---> Cost:  0.730763970896829\n",
      "Iteration:  240 ---> Cost:  0.7202106660230085\n",
      "Iteration:  250 ---> Cost:  0.7102100398094385\n",
      "Iteration:  260 ---> Cost:  0.7007030508245431\n",
      "Iteration:  270 ---> Cost:  0.6916470540471085\n",
      "Iteration:  280 ---> Cost:  0.6829971256783999\n",
      "Iteration:  290 ---> Cost:  0.6747115300631652\n",
      "Iteration:  300 ---> Cost:  0.666760923867317\n",
      "Iteration:  310 ---> Cost:  0.6591198819313893\n",
      "Iteration:  320 ---> Cost:  0.6517639456675189\n",
      "Iteration:  330 ---> Cost:  0.6446801024005918\n",
      "Iteration:  340 ---> Cost:  0.6378349464289628\n",
      "Iteration:  350 ---> Cost:  0.6312160910091296\n",
      "Iteration:  360 ---> Cost:  0.6248051161900899\n",
      "Iteration:  370 ---> Cost:  0.6185831049269358\n",
      "Iteration:  380 ---> Cost:  0.6125487059336838\n",
      "Iteration:  390 ---> Cost:  0.6066979419374858\n",
      "Iteration:  400 ---> Cost:  0.6010163519107791\n",
      "Iteration:  410 ---> Cost:  0.595489802552643\n",
      "Iteration:  420 ---> Cost:  0.5901147582805898\n",
      "Iteration:  430 ---> Cost:  0.5848841479003184\n",
      "Iteration:  440 ---> Cost:  0.5797860113038936\n",
      "Iteration:  450 ---> Cost:  0.5748150522426869\n",
      "Iteration:  460 ---> Cost:  0.5699668364356409\n",
      "Iteration:  470 ---> Cost:  0.5652325129383138\n",
      "Iteration:  480 ---> Cost:  0.5606101614893052\n",
      "Iteration:  490 ---> Cost:  0.5560886285442729\n",
      "Iteration:  500 ---> Cost:  0.5516660920039594\n",
      "Iteration:  510 ---> Cost:  0.5473421336429487\n",
      "Iteration:  520 ---> Cost:  0.5431059575539823\n",
      "Iteration:  530 ---> Cost:  0.5389610980209372\n",
      "Iteration:  540 ---> Cost:  0.5349018206606218\n",
      "Iteration:  550 ---> Cost:  0.5309251449080348\n",
      "Iteration:  560 ---> Cost:  0.5270263596417434\n",
      "Iteration:  570 ---> Cost:  0.5232044999971164\n",
      "Iteration:  580 ---> Cost:  0.5194544924627421\n",
      "Iteration:  590 ---> Cost:  0.5157748844074926\n",
      "Iteration:  600 ---> Cost:  0.5121664559521826\n",
      "Iteration:  610 ---> Cost:  0.5086235087299326\n",
      "Iteration:  620 ---> Cost:  0.5051446024673127\n",
      "Iteration:  630 ---> Cost:  0.5017242050728193\n",
      "Iteration:  640 ---> Cost:  0.49836281132473287\n",
      "Iteration:  650 ---> Cost:  0.4950587643454767\n",
      "Iteration:  660 ---> Cost:  0.491808846992895\n",
      "Iteration:  670 ---> Cost:  0.4886109220081529\n",
      "Iteration:  680 ---> Cost:  0.4854648229759692\n",
      "Iteration:  690 ---> Cost:  0.482369314208891\n",
      "Iteration:  700 ---> Cost:  0.4793223270085874\n",
      "Iteration:  710 ---> Cost:  0.47632534759172807\n",
      "Iteration:  720 ---> Cost:  0.4733760942035031\n",
      "Iteration:  730 ---> Cost:  0.4704725289717346\n",
      "Iteration:  740 ---> Cost:  0.4676134673709156\n",
      "Iteration:  750 ---> Cost:  0.4647960035621035\n",
      "Iteration:  760 ---> Cost:  0.46201739312271756\n",
      "Iteration:  770 ---> Cost:  0.4592768383072843\n",
      "Iteration:  780 ---> Cost:  0.45657457159518594\n",
      "Iteration:  790 ---> Cost:  0.45390946987401753\n",
      "Iteration:  800 ---> Cost:  0.4512797752864021\n",
      "Iteration:  810 ---> Cost:  0.4486871009365629\n",
      "Iteration:  820 ---> Cost:  0.4461292918987161\n",
      "Iteration:  830 ---> Cost:  0.44360414677856597\n",
      "Iteration:  840 ---> Cost:  0.4411145710749924\n",
      "Iteration:  850 ---> Cost:  0.4386593105600745\n",
      "Iteration:  860 ---> Cost:  0.4362368006220295\n",
      "Iteration:  870 ---> Cost:  0.43384484522164846\n",
      "Iteration:  880 ---> Cost:  0.43148471003573574\n",
      "Iteration:  890 ---> Cost:  0.4291547902099518\n",
      "Iteration:  900 ---> Cost:  0.42685509054515686\n",
      "Iteration:  910 ---> Cost:  0.42458441883681974\n",
      "Iteration:  920 ---> Cost:  0.4223409219125566\n",
      "Iteration:  930 ---> Cost:  0.42012444703610485\n",
      "Iteration:  940 ---> Cost:  0.41793279200943534\n",
      "Iteration:  950 ---> Cost:  0.41576922248162096\n",
      "Iteration:  960 ---> Cost:  0.4136322109094722\n",
      "Iteration:  970 ---> Cost:  0.41152019683678626\n",
      "Iteration:  980 ---> Cost:  0.4094331907372714\n",
      "Iteration:  990 ---> Cost:  0.4073699794270853\n",
      "Iteration:  1000 ---> Cost:  0.4053298286536162\n",
      "Iteration:  1010 ---> Cost:  0.40331170184132836\n",
      "Iteration:  1020 ---> Cost:  0.40131675013002444\n",
      "Iteration:  1030 ---> Cost:  0.39934415523795413\n",
      "Iteration:  1040 ---> Cost:  0.3973926408282416\n",
      "Iteration:  1050 ---> Cost:  0.395462089599109\n",
      "Iteration:  1060 ---> Cost:  0.3935515382229056\n",
      "Iteration:  1070 ---> Cost:  0.3916597055362981\n",
      "Iteration:  1080 ---> Cost:  0.3897875655573316\n",
      "Iteration:  1090 ---> Cost:  0.3879337739815074\n",
      "Iteration:  1100 ---> Cost:  0.3860983497745392\n",
      "Iteration:  1110 ---> Cost:  0.384282001756622\n",
      "Iteration:  1120 ---> Cost:  0.3824838043662181\n",
      "Iteration:  1130 ---> Cost:  0.38070344548240515\n",
      "Iteration:  1140 ---> Cost:  0.37894076468548027\n",
      "Iteration:  1150 ---> Cost:  0.37719514096576634\n",
      "Iteration:  1160 ---> Cost:  0.3754680519452905\n",
      "Iteration:  1170 ---> Cost:  0.37375727533018815\n",
      "Iteration:  1180 ---> Cost:  0.37206202184939435\n",
      "Iteration:  1190 ---> Cost:  0.37038263152566947\n",
      "Iteration:  1200 ---> Cost:  0.36872030781453147\n",
      "Iteration:  1210 ---> Cost:  0.36707398457038254\n",
      "Iteration:  1220 ---> Cost:  0.3654438222719503\n",
      "Iteration:  1230 ---> Cost:  0.36382948210412275\n",
      "Iteration:  1240 ---> Cost:  0.36223044774011104\n",
      "Iteration:  1250 ---> Cost:  0.36064732262142624\n",
      "Iteration:  1260 ---> Cost:  0.35907917933255223\n",
      "Iteration:  1270 ---> Cost:  0.357525561877463\n",
      "Iteration:  1280 ---> Cost:  0.355986199212813\n",
      "Iteration:  1290 ---> Cost:  0.35446114980279264\n",
      "Iteration:  1300 ---> Cost:  0.35295004589053824\n",
      "Iteration:  1310 ---> Cost:  0.3514526017904923\n",
      "Iteration:  1320 ---> Cost:  0.34996825850478935\n",
      "Iteration:  1330 ---> Cost:  0.34849738017700377\n",
      "Iteration:  1340 ---> Cost:  0.34703932718824476\n",
      "Iteration:  1350 ---> Cost:  0.3455942483407485\n",
      "Iteration:  1360 ---> Cost:  0.3441608859485376\n",
      "Iteration:  1370 ---> Cost:  0.34273873505142216\n",
      "Iteration:  1380 ---> Cost:  0.34132882806624454\n",
      "Iteration:  1390 ---> Cost:  0.3399303967272623\n",
      "Iteration:  1400 ---> Cost:  0.33854419553905274\n",
      "Iteration:  1410 ---> Cost:  0.3371696816511958\n",
      "Iteration:  1420 ---> Cost:  0.3358070242252623\n",
      "Iteration:  1430 ---> Cost:  0.33445584709424714\n",
      "Iteration:  1440 ---> Cost:  0.3331173925991635\n",
      "Iteration:  1450 ---> Cost:  0.3317896997113268\n",
      "Iteration:  1460 ---> Cost:  0.33047223791488317\n",
      "Iteration:  1470 ---> Cost:  0.3291655123264736\n",
      "Iteration:  1480 ---> Cost:  0.32786934017590313\n",
      "Iteration:  1490 ---> Cost:  0.3265840775927511\n"
     ]
    }
   ],
   "source": [
    "parameters = init_param(n, hidden_units, output_units)\n",
    "\n",
    "for i in range(epochs):\n",
    "    A2,values = feedforward(X_train, parameters)\n",
    "    cost = cost_func(A2, y_train_onehot)\n",
    "    \n",
    "    if (i%10 == 0):\n",
    "        print(\"Iteration: \", i,\"---> Cost: \", cost)\n",
    "        \n",
    "    grads = backprop(parameters, values, X_train, y_train_onehot)\n",
    "    parameters = update_param(parameters, grads, learning_rate)"
   ]
  },
  {
   "cell_type": "markdown",
   "metadata": {},
   "source": [
    "# Getting the Train Accuracy"
   ]
  },
  {
   "cell_type": "code",
   "execution_count": 16,
   "metadata": {
    "colab": {
     "base_uri": "https://localhost:8080/",
     "height": 34
    },
    "colab_type": "code",
    "id": "UZPZBw0eJ9jB",
    "outputId": "4f71108c-6fc8-4be9-d522-cc9e25f4d742"
   },
   "outputs": [
    {
     "name": "stdout",
     "output_type": "stream",
     "text": [
      "Training Accuracy:  0.9561607142857143\n"
     ]
    }
   ],
   "source": [
    "train_preds_probs, _ = feedforward(X_train, parameters)\n",
    "train_preds_labels = train_preds_probs.argmax(axis = 0)\n",
    "\n",
    "count = 0\n",
    "for i in range(X_train.shape[1]):\n",
    "    if train_preds_labels[i] == y_train[i]:\n",
    "        count += 1\n",
    "        \n",
    "print(\"Training Accuracy: \", count / X_train.shape[1]) "
   ]
  },
  {
   "cell_type": "markdown",
   "metadata": {},
   "source": [
    "# Getting the Validation Accuracy"
   ]
  },
  {
   "cell_type": "code",
   "execution_count": 17,
   "metadata": {},
   "outputs": [
    {
     "name": "stdout",
     "output_type": "stream",
     "text": [
      "X_valid:  (784, 8400)\n",
      "y_valid:  (8400,)\n"
     ]
    }
   ],
   "source": [
    "X_valid = X_valid.to_numpy().transpose()\n",
    "X_valid = X_valid / 255\n",
    "print(\"X_valid: \", X_valid.shape)\n",
    "print(\"y_valid: \", y_valid.shape)"
   ]
  },
  {
   "cell_type": "code",
   "execution_count": 18,
   "metadata": {},
   "outputs": [
    {
     "name": "stdout",
     "output_type": "stream",
     "text": [
      "Validation Accuracy:  0.9528571428571428\n"
     ]
    }
   ],
   "source": [
    "valid_preds_probs, _ = feedforward(X_valid, parameters)\n",
    "valid_preds_labels = valid_preds_probs.argmax(axis = 0)\n",
    "\n",
    "count = 0\n",
    "for i in range(X_valid.shape[1]):\n",
    "    if valid_preds_labels[i] == y_valid[i]:\n",
    "        count += 1\n",
    "    \n",
    "print(\"Validation Accuracy: \", count / X_valid.shape[1])"
   ]
  },
  {
   "cell_type": "markdown",
   "metadata": {},
   "source": [
    "# Getting the Test Data"
   ]
  },
  {
   "cell_type": "code",
   "execution_count": 19,
   "metadata": {},
   "outputs": [
    {
     "data": {
      "text/html": [
       "<div>\n",
       "<style scoped>\n",
       "    .dataframe tbody tr th:only-of-type {\n",
       "        vertical-align: middle;\n",
       "    }\n",
       "\n",
       "    .dataframe tbody tr th {\n",
       "        vertical-align: top;\n",
       "    }\n",
       "\n",
       "    .dataframe thead th {\n",
       "        text-align: right;\n",
       "    }\n",
       "</style>\n",
       "<table border=\"1\" class=\"dataframe\">\n",
       "  <thead>\n",
       "    <tr style=\"text-align: right;\">\n",
       "      <th></th>\n",
       "      <th>pixel0</th>\n",
       "      <th>pixel1</th>\n",
       "      <th>pixel2</th>\n",
       "      <th>pixel3</th>\n",
       "      <th>pixel4</th>\n",
       "      <th>pixel5</th>\n",
       "      <th>pixel6</th>\n",
       "      <th>pixel7</th>\n",
       "      <th>pixel8</th>\n",
       "      <th>pixel9</th>\n",
       "      <th>...</th>\n",
       "      <th>pixel774</th>\n",
       "      <th>pixel775</th>\n",
       "      <th>pixel776</th>\n",
       "      <th>pixel777</th>\n",
       "      <th>pixel778</th>\n",
       "      <th>pixel779</th>\n",
       "      <th>pixel780</th>\n",
       "      <th>pixel781</th>\n",
       "      <th>pixel782</th>\n",
       "      <th>pixel783</th>\n",
       "    </tr>\n",
       "  </thead>\n",
       "  <tbody>\n",
       "    <tr>\n",
       "      <th>0</th>\n",
       "      <td>0</td>\n",
       "      <td>0</td>\n",
       "      <td>0</td>\n",
       "      <td>0</td>\n",
       "      <td>0</td>\n",
       "      <td>0</td>\n",
       "      <td>0</td>\n",
       "      <td>0</td>\n",
       "      <td>0</td>\n",
       "      <td>0</td>\n",
       "      <td>...</td>\n",
       "      <td>0</td>\n",
       "      <td>0</td>\n",
       "      <td>0</td>\n",
       "      <td>0</td>\n",
       "      <td>0</td>\n",
       "      <td>0</td>\n",
       "      <td>0</td>\n",
       "      <td>0</td>\n",
       "      <td>0</td>\n",
       "      <td>0</td>\n",
       "    </tr>\n",
       "    <tr>\n",
       "      <th>1</th>\n",
       "      <td>0</td>\n",
       "      <td>0</td>\n",
       "      <td>0</td>\n",
       "      <td>0</td>\n",
       "      <td>0</td>\n",
       "      <td>0</td>\n",
       "      <td>0</td>\n",
       "      <td>0</td>\n",
       "      <td>0</td>\n",
       "      <td>0</td>\n",
       "      <td>...</td>\n",
       "      <td>0</td>\n",
       "      <td>0</td>\n",
       "      <td>0</td>\n",
       "      <td>0</td>\n",
       "      <td>0</td>\n",
       "      <td>0</td>\n",
       "      <td>0</td>\n",
       "      <td>0</td>\n",
       "      <td>0</td>\n",
       "      <td>0</td>\n",
       "    </tr>\n",
       "    <tr>\n",
       "      <th>2</th>\n",
       "      <td>0</td>\n",
       "      <td>0</td>\n",
       "      <td>0</td>\n",
       "      <td>0</td>\n",
       "      <td>0</td>\n",
       "      <td>0</td>\n",
       "      <td>0</td>\n",
       "      <td>0</td>\n",
       "      <td>0</td>\n",
       "      <td>0</td>\n",
       "      <td>...</td>\n",
       "      <td>0</td>\n",
       "      <td>0</td>\n",
       "      <td>0</td>\n",
       "      <td>0</td>\n",
       "      <td>0</td>\n",
       "      <td>0</td>\n",
       "      <td>0</td>\n",
       "      <td>0</td>\n",
       "      <td>0</td>\n",
       "      <td>0</td>\n",
       "    </tr>\n",
       "    <tr>\n",
       "      <th>3</th>\n",
       "      <td>0</td>\n",
       "      <td>0</td>\n",
       "      <td>0</td>\n",
       "      <td>0</td>\n",
       "      <td>0</td>\n",
       "      <td>0</td>\n",
       "      <td>0</td>\n",
       "      <td>0</td>\n",
       "      <td>0</td>\n",
       "      <td>0</td>\n",
       "      <td>...</td>\n",
       "      <td>0</td>\n",
       "      <td>0</td>\n",
       "      <td>0</td>\n",
       "      <td>0</td>\n",
       "      <td>0</td>\n",
       "      <td>0</td>\n",
       "      <td>0</td>\n",
       "      <td>0</td>\n",
       "      <td>0</td>\n",
       "      <td>0</td>\n",
       "    </tr>\n",
       "    <tr>\n",
       "      <th>4</th>\n",
       "      <td>0</td>\n",
       "      <td>0</td>\n",
       "      <td>0</td>\n",
       "      <td>0</td>\n",
       "      <td>0</td>\n",
       "      <td>0</td>\n",
       "      <td>0</td>\n",
       "      <td>0</td>\n",
       "      <td>0</td>\n",
       "      <td>0</td>\n",
       "      <td>...</td>\n",
       "      <td>0</td>\n",
       "      <td>0</td>\n",
       "      <td>0</td>\n",
       "      <td>0</td>\n",
       "      <td>0</td>\n",
       "      <td>0</td>\n",
       "      <td>0</td>\n",
       "      <td>0</td>\n",
       "      <td>0</td>\n",
       "      <td>0</td>\n",
       "    </tr>\n",
       "  </tbody>\n",
       "</table>\n",
       "<p>5 rows × 784 columns</p>\n",
       "</div>"
      ],
      "text/plain": [
       "   pixel0  pixel1  pixel2  pixel3  pixel4  pixel5  pixel6  pixel7  pixel8  \\\n",
       "0       0       0       0       0       0       0       0       0       0   \n",
       "1       0       0       0       0       0       0       0       0       0   \n",
       "2       0       0       0       0       0       0       0       0       0   \n",
       "3       0       0       0       0       0       0       0       0       0   \n",
       "4       0       0       0       0       0       0       0       0       0   \n",
       "\n",
       "   pixel9  ...  pixel774  pixel775  pixel776  pixel777  pixel778  pixel779  \\\n",
       "0       0  ...         0         0         0         0         0         0   \n",
       "1       0  ...         0         0         0         0         0         0   \n",
       "2       0  ...         0         0         0         0         0         0   \n",
       "3       0  ...         0         0         0         0         0         0   \n",
       "4       0  ...         0         0         0         0         0         0   \n",
       "\n",
       "   pixel780  pixel781  pixel782  pixel783  \n",
       "0         0         0         0         0  \n",
       "1         0         0         0         0  \n",
       "2         0         0         0         0  \n",
       "3         0         0         0         0  \n",
       "4         0         0         0         0  \n",
       "\n",
       "[5 rows x 784 columns]"
      ]
     },
     "execution_count": 19,
     "metadata": {},
     "output_type": "execute_result"
    }
   ],
   "source": [
    "test_data = pd.read_csv(\"./test.csv\")\n",
    "test_data.head()"
   ]
  },
  {
   "cell_type": "code",
   "execution_count": 20,
   "metadata": {},
   "outputs": [
    {
     "name": "stdout",
     "output_type": "stream",
     "text": [
      "X_test:  (784, 28000)\n"
     ]
    }
   ],
   "source": [
    "X_test = test_data.to_numpy().transpose()\n",
    "X_test = X_test / 255\n",
    "print(\"X_test: \", X_test.shape)"
   ]
  },
  {
   "cell_type": "code",
   "execution_count": 21,
   "metadata": {},
   "outputs": [
    {
     "data": {
      "text/plain": [
       "(28000,)"
      ]
     },
     "execution_count": 21,
     "metadata": {},
     "output_type": "execute_result"
    }
   ],
   "source": [
    "test_preds_probs, _ = feedforward(X_test, parameters)\n",
    "test_preds_labels = test_preds_probs.argmax(axis = 0)\n",
    "test_preds_labels.shape"
   ]
  },
  {
   "cell_type": "markdown",
   "metadata": {},
   "source": [
    "# Creating the Output CSV File"
   ]
  },
  {
   "cell_type": "code",
   "execution_count": 22,
   "metadata": {
    "colab": {
     "base_uri": "https://localhost:8080/",
     "height": 34
    },
    "colab_type": "code",
    "id": "qUzGzQREun-V",
    "outputId": "9f3fa302-3301-44f3-ef18-a739a719848c"
   },
   "outputs": [
    {
     "data": {
      "text/plain": [
       "array([    1,     2,     3, ..., 27998, 27999, 28000])"
      ]
     },
     "execution_count": 22,
     "metadata": {},
     "output_type": "execute_result"
    }
   ],
   "source": [
    "imageid = np.arange(test_preds_labels.shape[0]) + 1\n",
    "imageid"
   ]
  },
  {
   "cell_type": "code",
   "execution_count": 23,
   "metadata": {},
   "outputs": [
    {
     "data": {
      "text/html": [
       "<div>\n",
       "<style scoped>\n",
       "    .dataframe tbody tr th:only-of-type {\n",
       "        vertical-align: middle;\n",
       "    }\n",
       "\n",
       "    .dataframe tbody tr th {\n",
       "        vertical-align: top;\n",
       "    }\n",
       "\n",
       "    .dataframe thead th {\n",
       "        text-align: right;\n",
       "    }\n",
       "</style>\n",
       "<table border=\"1\" class=\"dataframe\">\n",
       "  <thead>\n",
       "    <tr style=\"text-align: right;\">\n",
       "      <th></th>\n",
       "      <th>ImageId</th>\n",
       "      <th>Label</th>\n",
       "    </tr>\n",
       "  </thead>\n",
       "  <tbody>\n",
       "    <tr>\n",
       "      <th>0</th>\n",
       "      <td>1</td>\n",
       "      <td>2</td>\n",
       "    </tr>\n",
       "    <tr>\n",
       "      <th>1</th>\n",
       "      <td>2</td>\n",
       "      <td>0</td>\n",
       "    </tr>\n",
       "    <tr>\n",
       "      <th>2</th>\n",
       "      <td>3</td>\n",
       "      <td>9</td>\n",
       "    </tr>\n",
       "    <tr>\n",
       "      <th>3</th>\n",
       "      <td>4</td>\n",
       "      <td>9</td>\n",
       "    </tr>\n",
       "    <tr>\n",
       "      <th>4</th>\n",
       "      <td>5</td>\n",
       "      <td>3</td>\n",
       "    </tr>\n",
       "  </tbody>\n",
       "</table>\n",
       "</div>"
      ],
      "text/plain": [
       "   ImageId  Label\n",
       "0        1      2\n",
       "1        2      0\n",
       "2        3      9\n",
       "3        4      9\n",
       "4        5      3"
      ]
     },
     "execution_count": 23,
     "metadata": {},
     "output_type": "execute_result"
    }
   ],
   "source": [
    "df = pd.DataFrame({'ImageId': imageid, 'Label': test_preds_labels})\n",
    "df.head()"
   ]
  },
  {
   "cell_type": "code",
   "execution_count": 24,
   "metadata": {},
   "outputs": [],
   "source": [
    "df.to_csv('output_Leaky_ReLu_1_Hidden_Layers.csv', index = False)"
   ]
  },
  {
   "cell_type": "markdown",
   "metadata": {},
   "source": [
    "**This model gave a score of 0.94514 (~94.5% accuracy) when the output was submitted to Kaggle**"
   ]
  }
 ],
 "metadata": {
  "colab": {
   "collapsed_sections": [],
   "name": "Leaky ReLu 1- Hidden Layer.ipynb",
   "provenance": [],
   "version": "0.3.2"
  },
  "kernelspec": {
   "display_name": "Python 3",
   "language": "python",
   "name": "python3"
  },
  "language_info": {
   "codemirror_mode": {
    "name": "ipython",
    "version": 3
   },
   "file_extension": ".py",
   "mimetype": "text/x-python",
   "name": "python",
   "nbconvert_exporter": "python",
   "pygments_lexer": "ipython3",
   "version": "3.7.3"
  }
 },
 "nbformat": 4,
 "nbformat_minor": 1
}
