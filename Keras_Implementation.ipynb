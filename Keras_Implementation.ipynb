{
 "cells": [
  {
   "cell_type": "markdown",
   "metadata": {
    "colab_type": "text",
    "id": "6qE3RU7Ier1t"
   },
   "source": [
    "# Setting up the Environment"
   ]
  },
  {
   "cell_type": "code",
   "execution_count": 1,
   "metadata": {},
   "outputs": [],
   "source": [
    "import numpy as np\n",
    "import pandas as pd\n",
    "import tensorflow as tf\n",
    "import matplotlib.pyplot as plt\n",
    "from tensorflow.keras.models import Sequential\n",
    "from sklearn.model_selection import train_test_split\n",
    "from tensorflow.keras.preprocessing.image import ImageDataGenerator\n",
    "from tensorflow.keras.layers import Conv2D, Dropout, Activation, Dense, BatchNormalization, MaxPooling2D, Flatten"
   ]
  },
  {
   "cell_type": "code",
   "execution_count": 2,
   "metadata": {},
   "outputs": [
    {
     "data": {
      "text/plain": [
       "'2.0.0-beta1'"
      ]
     },
     "execution_count": 2,
     "metadata": {},
     "output_type": "execute_result"
    }
   ],
   "source": [
    "tf.__version__"
   ]
  },
  {
   "cell_type": "code",
   "execution_count": 3,
   "metadata": {},
   "outputs": [
    {
     "data": {
      "text/plain": [
       "True"
      ]
     },
     "execution_count": 3,
     "metadata": {},
     "output_type": "execute_result"
    }
   ],
   "source": [
    "tf.test.is_gpu_available()"
   ]
  },
  {
   "cell_type": "markdown",
   "metadata": {
    "colab_type": "text",
    "id": "2MN6Z9G-evrX"
   },
   "source": [
    "# Getting the Data"
   ]
  },
  {
   "cell_type": "code",
   "execution_count": 4,
   "metadata": {
    "colab": {
     "base_uri": "https://localhost:8080/",
     "height": 246
    },
    "colab_type": "code",
    "id": "je95VlpvymWT",
    "outputId": "b94823d8-0ca5-46f9-a92a-7b2e5966981d"
   },
   "outputs": [
    {
     "data": {
      "text/html": [
       "<div>\n",
       "<style scoped>\n",
       "    .dataframe tbody tr th:only-of-type {\n",
       "        vertical-align: middle;\n",
       "    }\n",
       "\n",
       "    .dataframe tbody tr th {\n",
       "        vertical-align: top;\n",
       "    }\n",
       "\n",
       "    .dataframe thead th {\n",
       "        text-align: right;\n",
       "    }\n",
       "</style>\n",
       "<table border=\"1\" class=\"dataframe\">\n",
       "  <thead>\n",
       "    <tr style=\"text-align: right;\">\n",
       "      <th></th>\n",
       "      <th>label</th>\n",
       "      <th>pixel0</th>\n",
       "      <th>pixel1</th>\n",
       "      <th>pixel2</th>\n",
       "      <th>pixel3</th>\n",
       "      <th>pixel4</th>\n",
       "      <th>pixel5</th>\n",
       "      <th>pixel6</th>\n",
       "      <th>pixel7</th>\n",
       "      <th>pixel8</th>\n",
       "      <th>...</th>\n",
       "      <th>pixel774</th>\n",
       "      <th>pixel775</th>\n",
       "      <th>pixel776</th>\n",
       "      <th>pixel777</th>\n",
       "      <th>pixel778</th>\n",
       "      <th>pixel779</th>\n",
       "      <th>pixel780</th>\n",
       "      <th>pixel781</th>\n",
       "      <th>pixel782</th>\n",
       "      <th>pixel783</th>\n",
       "    </tr>\n",
       "  </thead>\n",
       "  <tbody>\n",
       "    <tr>\n",
       "      <th>0</th>\n",
       "      <td>1</td>\n",
       "      <td>0</td>\n",
       "      <td>0</td>\n",
       "      <td>0</td>\n",
       "      <td>0</td>\n",
       "      <td>0</td>\n",
       "      <td>0</td>\n",
       "      <td>0</td>\n",
       "      <td>0</td>\n",
       "      <td>0</td>\n",
       "      <td>...</td>\n",
       "      <td>0</td>\n",
       "      <td>0</td>\n",
       "      <td>0</td>\n",
       "      <td>0</td>\n",
       "      <td>0</td>\n",
       "      <td>0</td>\n",
       "      <td>0</td>\n",
       "      <td>0</td>\n",
       "      <td>0</td>\n",
       "      <td>0</td>\n",
       "    </tr>\n",
       "    <tr>\n",
       "      <th>1</th>\n",
       "      <td>0</td>\n",
       "      <td>0</td>\n",
       "      <td>0</td>\n",
       "      <td>0</td>\n",
       "      <td>0</td>\n",
       "      <td>0</td>\n",
       "      <td>0</td>\n",
       "      <td>0</td>\n",
       "      <td>0</td>\n",
       "      <td>0</td>\n",
       "      <td>...</td>\n",
       "      <td>0</td>\n",
       "      <td>0</td>\n",
       "      <td>0</td>\n",
       "      <td>0</td>\n",
       "      <td>0</td>\n",
       "      <td>0</td>\n",
       "      <td>0</td>\n",
       "      <td>0</td>\n",
       "      <td>0</td>\n",
       "      <td>0</td>\n",
       "    </tr>\n",
       "    <tr>\n",
       "      <th>2</th>\n",
       "      <td>1</td>\n",
       "      <td>0</td>\n",
       "      <td>0</td>\n",
       "      <td>0</td>\n",
       "      <td>0</td>\n",
       "      <td>0</td>\n",
       "      <td>0</td>\n",
       "      <td>0</td>\n",
       "      <td>0</td>\n",
       "      <td>0</td>\n",
       "      <td>...</td>\n",
       "      <td>0</td>\n",
       "      <td>0</td>\n",
       "      <td>0</td>\n",
       "      <td>0</td>\n",
       "      <td>0</td>\n",
       "      <td>0</td>\n",
       "      <td>0</td>\n",
       "      <td>0</td>\n",
       "      <td>0</td>\n",
       "      <td>0</td>\n",
       "    </tr>\n",
       "    <tr>\n",
       "      <th>3</th>\n",
       "      <td>4</td>\n",
       "      <td>0</td>\n",
       "      <td>0</td>\n",
       "      <td>0</td>\n",
       "      <td>0</td>\n",
       "      <td>0</td>\n",
       "      <td>0</td>\n",
       "      <td>0</td>\n",
       "      <td>0</td>\n",
       "      <td>0</td>\n",
       "      <td>...</td>\n",
       "      <td>0</td>\n",
       "      <td>0</td>\n",
       "      <td>0</td>\n",
       "      <td>0</td>\n",
       "      <td>0</td>\n",
       "      <td>0</td>\n",
       "      <td>0</td>\n",
       "      <td>0</td>\n",
       "      <td>0</td>\n",
       "      <td>0</td>\n",
       "    </tr>\n",
       "    <tr>\n",
       "      <th>4</th>\n",
       "      <td>0</td>\n",
       "      <td>0</td>\n",
       "      <td>0</td>\n",
       "      <td>0</td>\n",
       "      <td>0</td>\n",
       "      <td>0</td>\n",
       "      <td>0</td>\n",
       "      <td>0</td>\n",
       "      <td>0</td>\n",
       "      <td>0</td>\n",
       "      <td>...</td>\n",
       "      <td>0</td>\n",
       "      <td>0</td>\n",
       "      <td>0</td>\n",
       "      <td>0</td>\n",
       "      <td>0</td>\n",
       "      <td>0</td>\n",
       "      <td>0</td>\n",
       "      <td>0</td>\n",
       "      <td>0</td>\n",
       "      <td>0</td>\n",
       "    </tr>\n",
       "  </tbody>\n",
       "</table>\n",
       "<p>5 rows × 785 columns</p>\n",
       "</div>"
      ],
      "text/plain": [
       "   label  pixel0  pixel1  pixel2  pixel3  pixel4  pixel5  pixel6  pixel7  \\\n",
       "0      1       0       0       0       0       0       0       0       0   \n",
       "1      0       0       0       0       0       0       0       0       0   \n",
       "2      1       0       0       0       0       0       0       0       0   \n",
       "3      4       0       0       0       0       0       0       0       0   \n",
       "4      0       0       0       0       0       0       0       0       0   \n",
       "\n",
       "   pixel8  ...  pixel774  pixel775  pixel776  pixel777  pixel778  pixel779  \\\n",
       "0       0  ...         0         0         0         0         0         0   \n",
       "1       0  ...         0         0         0         0         0         0   \n",
       "2       0  ...         0         0         0         0         0         0   \n",
       "3       0  ...         0         0         0         0         0         0   \n",
       "4       0  ...         0         0         0         0         0         0   \n",
       "\n",
       "   pixel780  pixel781  pixel782  pixel783  \n",
       "0         0         0         0         0  \n",
       "1         0         0         0         0  \n",
       "2         0         0         0         0  \n",
       "3         0         0         0         0  \n",
       "4         0         0         0         0  \n",
       "\n",
       "[5 rows x 785 columns]"
      ]
     },
     "execution_count": 4,
     "metadata": {},
     "output_type": "execute_result"
    }
   ],
   "source": [
    "data = pd.read_csv(\"train.csv\")\n",
    "data.head()"
   ]
  },
  {
   "cell_type": "code",
   "execution_count": 5,
   "metadata": {
    "colab": {
     "base_uri": "https://localhost:8080/",
     "height": 34
    },
    "colab_type": "code",
    "id": "kwPgAHgzVvwr",
    "outputId": "2fcd24f8-f539-4033-d279-c8baf4504c9e"
   },
   "outputs": [
    {
     "data": {
      "text/plain": [
       "(42000, 785)"
      ]
     },
     "execution_count": 5,
     "metadata": {},
     "output_type": "execute_result"
    }
   ],
   "source": [
    "data.shape"
   ]
  },
  {
   "cell_type": "code",
   "execution_count": 6,
   "metadata": {
    "colab": {
     "base_uri": "https://localhost:8080/",
     "height": 244
    },
    "colab_type": "code",
    "id": "W8dJGkNtyoBf",
    "outputId": "1365e6c2-8163-440d-8c2d-bc429fe0101b"
   },
   "outputs": [],
   "source": [
    "X = data.iloc[:,1:]\n",
    "y = data[['label']]"
   ]
  },
  {
   "cell_type": "markdown",
   "metadata": {},
   "source": [
    "# Splitting the Data into Train and Validation"
   ]
  },
  {
   "cell_type": "code",
   "execution_count": 7,
   "metadata": {},
   "outputs": [],
   "source": [
    "X_train, X_valid, y_train, y_valid = train_test_split(X, y, test_size = 0.2, random_state = 0, shuffle = True)"
   ]
  },
  {
   "cell_type": "code",
   "execution_count": 8,
   "metadata": {},
   "outputs": [
    {
     "name": "stdout",
     "output_type": "stream",
     "text": [
      "X_train :  (33600, 784)\n",
      "y_train :  (33600, 1)\n",
      "X_valid :  (8400, 784)\n",
      "y_valid :  (8400, 1)\n"
     ]
    }
   ],
   "source": [
    "print(\"X_train : \", X_train.shape)\n",
    "print(\"y_train : \", y_train.shape)\n",
    "print(\"X_valid : \", X_valid.shape)\n",
    "print(\"y_valid : \", y_valid.shape)"
   ]
  },
  {
   "cell_type": "markdown",
   "metadata": {
    "colab_type": "text",
    "id": "Cs3cH9D5d2dg"
   },
   "source": [
    "# Reshaping the Train and Validation Data"
   ]
  },
  {
   "cell_type": "markdown",
   "metadata": {},
   "source": [
    "**The Images have 784 pixels, that is, 28x28 pixels and 1 channel(greyscale).**"
   ]
  },
  {
   "cell_type": "code",
   "execution_count": 9,
   "metadata": {},
   "outputs": [],
   "source": [
    "X_train = X_train.to_numpy().reshape(-1, 28, 28, 1)  \n",
    "y_train = y_train.to_numpy()"
   ]
  },
  {
   "cell_type": "code",
   "execution_count": 10,
   "metadata": {},
   "outputs": [],
   "source": [
    "X_valid = X_valid.to_numpy().reshape(-1, 28, 28, 1)\n",
    "y_valid = y_valid.to_numpy()"
   ]
  },
  {
   "cell_type": "code",
   "execution_count": 11,
   "metadata": {},
   "outputs": [
    {
     "name": "stdout",
     "output_type": "stream",
     "text": [
      "X_train :  (33600, 28, 28, 1)\n",
      "y_train :  (33600, 1)\n",
      "X_valid :  (8400, 28, 28, 1)\n",
      "y_valid :  (8400, 1)\n"
     ]
    }
   ],
   "source": [
    "print(\"X_train : \", X_train.shape)\n",
    "print(\"y_train : \", y_train.shape)\n",
    "print(\"X_valid : \", X_valid.shape)\n",
    "print(\"y_valid : \", y_valid.shape)"
   ]
  },
  {
   "cell_type": "code",
   "execution_count": 12,
   "metadata": {},
   "outputs": [
    {
     "data": {
      "text/plain": [
       "array([0, 1, 2, 3, 4, 5, 6, 7, 8, 9], dtype=int64)"
      ]
     },
     "execution_count": 12,
     "metadata": {},
     "output_type": "execute_result"
    }
   ],
   "source": [
    "np.unique(y_train)"
   ]
  },
  {
   "cell_type": "code",
   "execution_count": 13,
   "metadata": {},
   "outputs": [
    {
     "data": {
      "text/plain": [
       "array([0, 1, 2, 3, 4, 5, 6, 7, 8, 9], dtype=int64)"
      ]
     },
     "execution_count": 13,
     "metadata": {},
     "output_type": "execute_result"
    }
   ],
   "source": [
    "np.unique(y_valid)"
   ]
  },
  {
   "cell_type": "markdown",
   "metadata": {
    "colab_type": "text",
    "id": "RMMlnJ-8erQE"
   },
   "source": [
    "# Displaying 10 random examples"
   ]
  },
  {
   "cell_type": "code",
   "execution_count": 14,
   "metadata": {},
   "outputs": [
    {
     "data": {
      "image/png": "[encoded data removed]",
      "text/plain": [
       "<Figure size 1440x720 with 10 Axes>"
      ]
     },
     "metadata": {
      "needs_background": "light"
     },
     "output_type": "display_data"
    }
   ],
   "source": [
    "fig = plt.figure(figsize = (20,10))\n",
    "for i in range(10):\n",
    "    plt.subplot(2,5,i+1)\n",
    "    plt.imshow(X_train[i].reshape(28, 28), cmap = 'Greys')    \n",
    "plt.show()"
   ]
  },
  {
   "cell_type": "markdown",
   "metadata": {
    "colab_type": "text",
    "id": "qp9aQ9xYe6zz"
   },
   "source": [
    "# Creating the Convolutional Neural Network"
   ]
  },
  {
   "cell_type": "code",
   "execution_count": 15,
   "metadata": {},
   "outputs": [],
   "source": [
    "model = Sequential()\n",
    "\n",
    "model.add(Conv2D(16, kernel_size = 3, padding = 'same', input_shape = (28, 28, 1)))\n",
    "#model.add(BatchNormalization())\n",
    "model.add(Activation('relu'))\n",
    "          \n",
    "model.add(Conv2D(64, kernel_size = 3, padding = 'same'))\n",
    "#model.add(BatchNormalization())\n",
    "model.add(Activation('relu'))\n",
    "\n",
    "model.add(MaxPooling2D(pool_size = (2,2), strides = (2,2)))\n",
    "\n",
    "model.add(Conv2D(128, kernel_size = 3, padding = 'same'))\n",
    "#model.add(BatchNormalization())\n",
    "model.add(Activation('relu'))\n",
    "\n",
    "model.add(Conv2D(256, kernel_size = 3, padding = 'same'))\n",
    "#model.add(BatchNormalization())\n",
    "model.add(Activation('relu'))\n",
    "\n",
    "model.add(Conv2D(64, kernel_size = 3, padding = 'same'))\n",
    "#model.add(BatchNormalization())\n",
    "model.add(Activation('relu'))\n",
    "\n",
    "model.add(MaxPooling2D(pool_size = (2,2), strides = (2,2)))\n",
    "          \n",
    "model.add(Flatten())\n",
    "\n",
    "model.add(Dense(256, activation = 'relu'))\n",
    "#model.add(Dropout(0.5))\n",
    "model.add(Dense(128, activation = 'relu'))\n",
    "#model.add(Dropout(0.5))\n",
    "\n",
    "model.add(Dense(10, activation = 'softmax'))"
   ]
  },
  {
   "cell_type": "markdown",
   "metadata": {},
   "source": [
    "**I experimented with BatchNormalization and Dropout, but they seemed to reduce both the Training and Validation accuracy. So, I removed them.**"
   ]
  },
  {
   "cell_type": "code",
   "execution_count": 16,
   "metadata": {},
   "outputs": [
    {
     "name": "stdout",
     "output_type": "stream",
     "text": [
      "Model: \"sequential\"\n",
      "_________________________________________________________________\n",
      "Layer (type)                 Output Shape              Param #   \n",
      "=================================================================\n",
      "conv2d (Conv2D)              (None, 28, 28, 16)        160       \n",
      "_________________________________________________________________\n",
      "activation (Activation)      (None, 28, 28, 16)        0         \n",
      "_________________________________________________________________\n",
      "conv2d_1 (Conv2D)            (None, 28, 28, 64)        9280      \n",
      "_________________________________________________________________\n",
      "activation_1 (Activation)    (None, 28, 28, 64)        0         \n",
      "_________________________________________________________________\n",
      "max_pooling2d (MaxPooling2D) (None, 14, 14, 64)        0         \n",
      "_________________________________________________________________\n",
      "conv2d_2 (Conv2D)            (None, 14, 14, 128)       73856     \n",
      "_________________________________________________________________\n",
      "activation_2 (Activation)    (None, 14, 14, 128)       0         \n",
      "_________________________________________________________________\n",
      "conv2d_3 (Conv2D)            (None, 14, 14, 256)       295168    \n",
      "_________________________________________________________________\n",
      "activation_3 (Activation)    (None, 14, 14, 256)       0         \n",
      "_________________________________________________________________\n",
      "conv2d_4 (Conv2D)            (None, 14, 14, 64)        147520    \n",
      "_________________________________________________________________\n",
      "activation_4 (Activation)    (None, 14, 14, 64)        0         \n",
      "_________________________________________________________________\n",
      "max_pooling2d_1 (MaxPooling2 (None, 7, 7, 64)          0         \n",
      "_________________________________________________________________\n",
      "flatten (Flatten)            (None, 3136)              0         \n",
      "_________________________________________________________________\n",
      "dense (Dense)                (None, 256)               803072    \n",
      "_________________________________________________________________\n",
      "dense_1 (Dense)              (None, 128)               32896     \n",
      "_________________________________________________________________\n",
      "dense_2 (Dense)              (None, 10)                1290      \n",
      "=================================================================\n",
      "Total params: 1,363,242\n",
      "Trainable params: 1,363,242\n",
      "Non-trainable params: 0\n",
      "_________________________________________________________________\n"
     ]
    }
   ],
   "source": [
    "model.summary()"
   ]
  },
  {
   "cell_type": "markdown",
   "metadata": {},
   "source": [
    "# Creating the Train and Test Image Generators"
   ]
  },
  {
   "cell_type": "code",
   "execution_count": 17,
   "metadata": {},
   "outputs": [],
   "source": [
    "train_datagen = ImageDataGenerator(rotation_range = 15,\n",
    "                                   width_shift_range = 0.3,\n",
    "                                   height_shift_range = 0.3,\n",
    "                                   shear_range = 0.2,\n",
    "                                   zoom_range = 0.15,\n",
    "                                   rescale = (1./255)) \n",
    "\n",
    "valid_datagen = ImageDataGenerator(rescale = 1./255)"
   ]
  },
  {
   "cell_type": "code",
   "execution_count": 18,
   "metadata": {},
   "outputs": [],
   "source": [
    "train_generator = train_datagen.flow(X_train, y_train, batch_size = 2048, shuffle = True)\n",
    "validation_generator = valid_datagen.flow(X_valid, y_valid, batch_size = 16, shuffle = True)"
   ]
  },
  {
   "cell_type": "markdown",
   "metadata": {},
   "source": [
    "# Compiling and Fitting the Model"
   ]
  },
  {
   "cell_type": "code",
   "execution_count": 19,
   "metadata": {
    "colab": {},
    "colab_type": "code",
    "id": "ki-HliXtgURN"
   },
   "outputs": [],
   "source": [
    "model.compile(optimizer = 'adam', loss = 'sparse_categorical_crossentropy', metrics = ['accuracy'])"
   ]
  },
  {
   "cell_type": "code",
   "execution_count": 20,
   "metadata": {},
   "outputs": [
    {
     "name": "stdout",
     "output_type": "stream",
     "text": [
      "Epoch 1/250\n"
     ]
    },
    {
     "name": "stderr",
     "output_type": "stream",
     "text": [
      "WARNING: Logging before flag parsing goes to stderr.\n",
      "W0825 20:42:15.061905  9928 deprecation.py:323] From C:\\Users\\RAJDEEP\\Anaconda\\Anaconda3\\lib\\site-packages\\tensorflow\\python\\ops\\math_grad.py:1250: add_dispatch_support.<locals>.wrapper (from tensorflow.python.ops.array_ops) is deprecated and will be removed in a future version.\n",
      "Instructions for updating:\n",
      "Use tf.where in 2.0, which has the same broadcast rule as np.where\n"
     ]
    },
    {
     "name": "stdout",
     "output_type": "stream",
     "text": [
      "17/17 - 12s - loss: 2.0553 - accuracy: 0.2653 - val_loss: 2.1304 - val_accuracy: 0.4092\n",
      "Epoch 2/250\n",
      "17/17 - 9s - loss: 1.4552 - accuracy: 0.5383 - val_loss: 0.6216 - val_accuracy: 0.8050\n",
      "Epoch 3/250\n",
      "17/17 - 9s - loss: 0.7417 - accuracy: 0.7648 - val_loss: 0.3439 - val_accuracy: 0.9018\n",
      "Epoch 4/250\n",
      "17/17 - 9s - loss: 0.4785 - accuracy: 0.8552 - val_loss: 0.2067 - val_accuracy: 0.9433\n",
      "Epoch 5/250\n",
      "17/17 - 9s - loss: 0.3645 - accuracy: 0.8851 - val_loss: 0.1733 - val_accuracy: 0.9499\n",
      "Epoch 6/250\n",
      "17/17 - 9s - loss: 0.3060 - accuracy: 0.9064 - val_loss: 0.1516 - val_accuracy: 0.9567\n",
      "Epoch 7/250\n",
      "17/17 - 9s - loss: 0.2577 - accuracy: 0.9199 - val_loss: 0.1139 - val_accuracy: 0.9671\n",
      "Epoch 8/250\n",
      "17/17 - 9s - loss: 0.2202 - accuracy: 0.9315 - val_loss: 0.0958 - val_accuracy: 0.9729\n",
      "Epoch 9/250\n",
      "17/17 - 9s - loss: 0.2223 - accuracy: 0.9309 - val_loss: 0.1013 - val_accuracy: 0.9696\n",
      "Epoch 10/250\n",
      "17/17 - 9s - loss: 0.2100 - accuracy: 0.9349 - val_loss: 0.0861 - val_accuracy: 0.9739\n",
      "Epoch 11/250\n",
      "17/17 - 9s - loss: 0.1783 - accuracy: 0.9443 - val_loss: 0.0754 - val_accuracy: 0.9767\n",
      "Epoch 12/250\n",
      "17/17 - 9s - loss: 0.1618 - accuracy: 0.9495 - val_loss: 0.0833 - val_accuracy: 0.9727\n",
      "Epoch 13/250\n",
      "17/17 - 9s - loss: 0.1444 - accuracy: 0.9556 - val_loss: 0.0684 - val_accuracy: 0.9788\n",
      "Epoch 14/250\n",
      "17/17 - 9s - loss: 0.1544 - accuracy: 0.9513 - val_loss: 0.0694 - val_accuracy: 0.9789\n",
      "Epoch 15/250\n",
      "17/17 - 9s - loss: 0.1387 - accuracy: 0.9566 - val_loss: 0.0588 - val_accuracy: 0.9819\n",
      "Epoch 16/250\n",
      "17/17 - 9s - loss: 0.1253 - accuracy: 0.9607 - val_loss: 0.0509 - val_accuracy: 0.9848\n",
      "Epoch 17/250\n",
      "17/17 - 9s - loss: 0.1215 - accuracy: 0.9614 - val_loss: 0.0673 - val_accuracy: 0.9786\n",
      "Epoch 18/250\n",
      "17/17 - 9s - loss: 0.1337 - accuracy: 0.9580 - val_loss: 0.0491 - val_accuracy: 0.9845\n",
      "Epoch 19/250\n",
      "17/17 - 9s - loss: 0.1133 - accuracy: 0.9651 - val_loss: 0.0476 - val_accuracy: 0.9851\n",
      "Epoch 20/250\n",
      "17/17 - 9s - loss: 0.1045 - accuracy: 0.9672 - val_loss: 0.0582 - val_accuracy: 0.9821\n",
      "Epoch 21/250\n",
      "17/17 - 9s - loss: 0.1053 - accuracy: 0.9685 - val_loss: 0.0413 - val_accuracy: 0.9868\n",
      "Epoch 22/250\n",
      "17/17 - 10s - loss: 0.0989 - accuracy: 0.9690 - val_loss: 0.0446 - val_accuracy: 0.9857\n",
      "Epoch 23/250\n",
      "17/17 - 9s - loss: 0.0969 - accuracy: 0.9696 - val_loss: 0.0453 - val_accuracy: 0.9874\n",
      "Epoch 24/250\n",
      "17/17 - 9s - loss: 0.0898 - accuracy: 0.9718 - val_loss: 0.0483 - val_accuracy: 0.9839\n",
      "Epoch 25/250\n",
      "17/17 - 9s - loss: 0.0930 - accuracy: 0.9696 - val_loss: 0.0533 - val_accuracy: 0.9829\n",
      "Epoch 26/250\n",
      "17/17 - 9s - loss: 0.0871 - accuracy: 0.9721 - val_loss: 0.0333 - val_accuracy: 0.9885\n",
      "Epoch 27/250\n",
      "17/17 - 9s - loss: 0.0859 - accuracy: 0.9726 - val_loss: 0.0373 - val_accuracy: 0.9881\n",
      "Epoch 28/250\n",
      "17/17 - 9s - loss: 0.0809 - accuracy: 0.9745 - val_loss: 0.0405 - val_accuracy: 0.9870\n",
      "Epoch 29/250\n",
      "17/17 - 9s - loss: 0.0816 - accuracy: 0.9737 - val_loss: 0.0331 - val_accuracy: 0.9898\n",
      "Epoch 30/250\n",
      "17/17 - 9s - loss: 0.0806 - accuracy: 0.9743 - val_loss: 0.0500 - val_accuracy: 0.9833\n",
      "Epoch 31/250\n",
      "17/17 - 9s - loss: 0.0767 - accuracy: 0.9765 - val_loss: 0.0350 - val_accuracy: 0.9892\n",
      "Epoch 32/250\n",
      "17/17 - 9s - loss: 0.0785 - accuracy: 0.9750 - val_loss: 0.0358 - val_accuracy: 0.9899\n",
      "Epoch 33/250\n",
      "17/17 - 9s - loss: 0.0718 - accuracy: 0.9778 - val_loss: 0.0389 - val_accuracy: 0.9879\n",
      "Epoch 34/250\n",
      "17/17 - 9s - loss: 0.0728 - accuracy: 0.9764 - val_loss: 0.0339 - val_accuracy: 0.9904\n",
      "Epoch 35/250\n",
      "17/17 - 9s - loss: 0.0709 - accuracy: 0.9784 - val_loss: 0.0324 - val_accuracy: 0.9910\n",
      "Epoch 36/250\n",
      "17/17 - 9s - loss: 0.0693 - accuracy: 0.9782 - val_loss: 0.0607 - val_accuracy: 0.9819\n",
      "Epoch 37/250\n",
      "17/17 - 9s - loss: 0.0700 - accuracy: 0.9780 - val_loss: 0.0313 - val_accuracy: 0.9908\n",
      "Epoch 38/250\n",
      "17/17 - 9s - loss: 0.0683 - accuracy: 0.9793 - val_loss: 0.0274 - val_accuracy: 0.9923\n",
      "Epoch 39/250\n",
      "17/17 - 9s - loss: 0.0644 - accuracy: 0.9801 - val_loss: 0.0349 - val_accuracy: 0.9904\n",
      "Epoch 40/250\n",
      "17/17 - 9s - loss: 0.0662 - accuracy: 0.9790 - val_loss: 0.0310 - val_accuracy: 0.9905\n",
      "Epoch 41/250\n",
      "17/17 - 9s - loss: 0.0643 - accuracy: 0.9797 - val_loss: 0.0261 - val_accuracy: 0.9927\n",
      "Epoch 42/250\n",
      "17/17 - 9s - loss: 0.0648 - accuracy: 0.9792 - val_loss: 0.0294 - val_accuracy: 0.9907\n",
      "Epoch 43/250\n",
      "17/17 - 10s - loss: 0.0646 - accuracy: 0.9796 - val_loss: 0.0288 - val_accuracy: 0.9925\n",
      "Epoch 44/250\n",
      "17/17 - 9s - loss: 0.0636 - accuracy: 0.9798 - val_loss: 0.0359 - val_accuracy: 0.9895\n",
      "Epoch 45/250\n",
      "17/17 - 9s - loss: 0.0602 - accuracy: 0.9813 - val_loss: 0.0255 - val_accuracy: 0.9918\n",
      "Epoch 46/250\n",
      "17/17 - 9s - loss: 0.0582 - accuracy: 0.9817 - val_loss: 0.0263 - val_accuracy: 0.9924\n",
      "Epoch 47/250\n",
      "17/17 - 9s - loss: 0.0577 - accuracy: 0.9821 - val_loss: 0.0282 - val_accuracy: 0.9925\n",
      "Epoch 48/250\n",
      "17/17 - 9s - loss: 0.0567 - accuracy: 0.9829 - val_loss: 0.0253 - val_accuracy: 0.9936\n",
      "Epoch 49/250\n",
      "17/17 - 9s - loss: 0.0547 - accuracy: 0.9826 - val_loss: 0.0317 - val_accuracy: 0.9912\n",
      "Epoch 50/250\n",
      "17/17 - 9s - loss: 0.0558 - accuracy: 0.9825 - val_loss: 0.0204 - val_accuracy: 0.9940\n",
      "Epoch 51/250\n",
      "17/17 - 9s - loss: 0.0548 - accuracy: 0.9830 - val_loss: 0.0249 - val_accuracy: 0.9926\n",
      "Epoch 52/250\n",
      "17/17 - 9s - loss: 0.0563 - accuracy: 0.9833 - val_loss: 0.0212 - val_accuracy: 0.9938\n",
      "Epoch 53/250\n",
      "17/17 - 10s - loss: 0.0548 - accuracy: 0.9819 - val_loss: 0.0271 - val_accuracy: 0.9919\n",
      "Epoch 54/250\n",
      "17/17 - 9s - loss: 0.0541 - accuracy: 0.9829 - val_loss: 0.0224 - val_accuracy: 0.9938\n",
      "Epoch 55/250\n",
      "17/17 - 9s - loss: 0.0505 - accuracy: 0.9838 - val_loss: 0.0329 - val_accuracy: 0.9906\n",
      "Epoch 56/250\n",
      "17/17 - 9s - loss: 0.0518 - accuracy: 0.9835 - val_loss: 0.0245 - val_accuracy: 0.9929\n",
      "Epoch 57/250\n",
      "17/17 - 9s - loss: 0.0496 - accuracy: 0.9841 - val_loss: 0.0242 - val_accuracy: 0.9938\n",
      "Epoch 58/250\n",
      "17/17 - 9s - loss: 0.0524 - accuracy: 0.9836 - val_loss: 0.0226 - val_accuracy: 0.9936\n",
      "Epoch 59/250\n",
      "17/17 - 10s - loss: 0.0516 - accuracy: 0.9836 - val_loss: 0.0247 - val_accuracy: 0.9927\n",
      "Epoch 60/250\n",
      "17/17 - 9s - loss: 0.0512 - accuracy: 0.9844 - val_loss: 0.0328 - val_accuracy: 0.9910\n",
      "Epoch 61/250\n",
      "17/17 - 9s - loss: 0.0484 - accuracy: 0.9846 - val_loss: 0.0209 - val_accuracy: 0.9937\n",
      "Epoch 62/250\n",
      "17/17 - 9s - loss: 0.0501 - accuracy: 0.9843 - val_loss: 0.0250 - val_accuracy: 0.9932\n",
      "Epoch 63/250\n",
      "17/17 - 9s - loss: 0.0474 - accuracy: 0.9852 - val_loss: 0.0226 - val_accuracy: 0.9930\n",
      "Epoch 64/250\n",
      "17/17 - 9s - loss: 0.0488 - accuracy: 0.9857 - val_loss: 0.0204 - val_accuracy: 0.9936\n",
      "Epoch 65/250\n",
      "17/17 - 9s - loss: 0.0474 - accuracy: 0.9848 - val_loss: 0.0197 - val_accuracy: 0.9950\n",
      "Epoch 66/250\n",
      "17/17 - 9s - loss: 0.0455 - accuracy: 0.9851 - val_loss: 0.0205 - val_accuracy: 0.9945\n",
      "Epoch 67/250\n",
      "17/17 - 9s - loss: 0.0468 - accuracy: 0.9857 - val_loss: 0.0348 - val_accuracy: 0.9894\n",
      "Epoch 68/250\n",
      "17/17 - 10s - loss: 0.0480 - accuracy: 0.9849 - val_loss: 0.0232 - val_accuracy: 0.9931\n",
      "Epoch 69/250\n",
      "17/17 - 10s - loss: 0.0464 - accuracy: 0.9854 - val_loss: 0.0224 - val_accuracy: 0.9940\n",
      "Epoch 70/250\n",
      "17/17 - 9s - loss: 0.0462 - accuracy: 0.9856 - val_loss: 0.0229 - val_accuracy: 0.9933\n",
      "Epoch 71/250\n",
      "17/17 - 9s - loss: 0.0413 - accuracy: 0.9864 - val_loss: 0.0211 - val_accuracy: 0.9939\n",
      "Epoch 72/250\n",
      "17/17 - 9s - loss: 0.0440 - accuracy: 0.9868 - val_loss: 0.0198 - val_accuracy: 0.9943\n",
      "Epoch 73/250\n",
      "17/17 - 9s - loss: 0.0510 - accuracy: 0.9846 - val_loss: 0.0240 - val_accuracy: 0.9924\n",
      "Epoch 74/250\n",
      "17/17 - 9s - loss: 0.0460 - accuracy: 0.9852 - val_loss: 0.0216 - val_accuracy: 0.9939\n",
      "Epoch 75/250\n",
      "17/17 - 10s - loss: 0.0449 - accuracy: 0.9856 - val_loss: 0.0214 - val_accuracy: 0.9935\n",
      "Epoch 76/250\n",
      "17/17 - 10s - loss: 0.0427 - accuracy: 0.9870 - val_loss: 0.0225 - val_accuracy: 0.9942\n",
      "Epoch 77/250\n",
      "17/17 - 9s - loss: 0.0407 - accuracy: 0.9874 - val_loss: 0.0202 - val_accuracy: 0.9942\n",
      "Epoch 78/250\n",
      "17/17 - 10s - loss: 0.0418 - accuracy: 0.9871 - val_loss: 0.0209 - val_accuracy: 0.9936\n",
      "Epoch 79/250\n",
      "17/17 - 10s - loss: 0.0419 - accuracy: 0.9865 - val_loss: 0.0213 - val_accuracy: 0.9939\n",
      "Epoch 80/250\n",
      "17/17 - 9s - loss: 0.0422 - accuracy: 0.9863 - val_loss: 0.0235 - val_accuracy: 0.9927\n",
      "Epoch 81/250\n",
      "17/17 - 9s - loss: 0.0386 - accuracy: 0.9877 - val_loss: 0.0203 - val_accuracy: 0.9942\n",
      "Epoch 82/250\n",
      "17/17 - 10s - loss: 0.0405 - accuracy: 0.9873 - val_loss: 0.0205 - val_accuracy: 0.9932\n",
      "Epoch 83/250\n"
     ]
    },
    {
     "name": "stdout",
     "output_type": "stream",
     "text": [
      "17/17 - 9s - loss: 0.0420 - accuracy: 0.9864 - val_loss: 0.0179 - val_accuracy: 0.9957\n",
      "Epoch 84/250\n",
      "17/17 - 9s - loss: 0.0368 - accuracy: 0.9880 - val_loss: 0.0210 - val_accuracy: 0.9944\n",
      "Epoch 85/250\n",
      "17/17 - 9s - loss: 0.0383 - accuracy: 0.9884 - val_loss: 0.0193 - val_accuracy: 0.9943\n",
      "Epoch 86/250\n",
      "17/17 - 9s - loss: 0.0363 - accuracy: 0.9881 - val_loss: 0.0200 - val_accuracy: 0.9938\n",
      "Epoch 87/250\n",
      "17/17 - 9s - loss: 0.0364 - accuracy: 0.9887 - val_loss: 0.0184 - val_accuracy: 0.9942\n",
      "Epoch 88/250\n",
      "17/17 - 9s - loss: 0.0389 - accuracy: 0.9879 - val_loss: 0.0249 - val_accuracy: 0.9924\n",
      "Epoch 89/250\n",
      "17/17 - 9s - loss: 0.0397 - accuracy: 0.9875 - val_loss: 0.0242 - val_accuracy: 0.9919\n",
      "Epoch 90/250\n",
      "17/17 - 9s - loss: 0.0390 - accuracy: 0.9880 - val_loss: 0.0209 - val_accuracy: 0.9932\n",
      "Epoch 91/250\n",
      "17/17 - 9s - loss: 0.0360 - accuracy: 0.9884 - val_loss: 0.0197 - val_accuracy: 0.9946\n",
      "Epoch 92/250\n",
      "17/17 - 9s - loss: 0.0359 - accuracy: 0.9884 - val_loss: 0.0213 - val_accuracy: 0.9939\n",
      "Epoch 93/250\n",
      "17/17 - 9s - loss: 0.0338 - accuracy: 0.9892 - val_loss: 0.0220 - val_accuracy: 0.9937\n",
      "Epoch 94/250\n",
      "17/17 - 9s - loss: 0.0341 - accuracy: 0.9887 - val_loss: 0.0292 - val_accuracy: 0.9919\n",
      "Epoch 95/250\n",
      "17/17 - 9s - loss: 0.0350 - accuracy: 0.9883 - val_loss: 0.0230 - val_accuracy: 0.9926\n",
      "Epoch 96/250\n",
      "17/17 - 9s - loss: 0.0337 - accuracy: 0.9891 - val_loss: 0.0205 - val_accuracy: 0.9943\n",
      "Epoch 97/250\n",
      "17/17 - 9s - loss: 0.0352 - accuracy: 0.9892 - val_loss: 0.0212 - val_accuracy: 0.9943\n",
      "Epoch 98/250\n",
      "17/17 - 10s - loss: 0.0337 - accuracy: 0.9888 - val_loss: 0.0219 - val_accuracy: 0.9940\n",
      "Epoch 99/250\n",
      "17/17 - 9s - loss: 0.0353 - accuracy: 0.9894 - val_loss: 0.0198 - val_accuracy: 0.9949\n",
      "Epoch 100/250\n",
      "17/17 - 10s - loss: 0.0337 - accuracy: 0.9893 - val_loss: 0.0212 - val_accuracy: 0.9942\n",
      "Epoch 101/250\n",
      "17/17 - 9s - loss: 0.0341 - accuracy: 0.9891 - val_loss: 0.0209 - val_accuracy: 0.9939\n",
      "Epoch 102/250\n",
      "17/17 - 9s - loss: 0.0328 - accuracy: 0.9895 - val_loss: 0.0160 - val_accuracy: 0.9950\n",
      "Epoch 103/250\n",
      "17/17 - 9s - loss: 0.0338 - accuracy: 0.9896 - val_loss: 0.0239 - val_accuracy: 0.9930\n",
      "Epoch 104/250\n",
      "17/17 - 9s - loss: 0.0358 - accuracy: 0.9891 - val_loss: 0.0207 - val_accuracy: 0.9946\n",
      "Epoch 105/250\n",
      "17/17 - 10s - loss: 0.0352 - accuracy: 0.9891 - val_loss: 0.0179 - val_accuracy: 0.9954\n",
      "Epoch 106/250\n",
      "17/17 - 10s - loss: 0.0331 - accuracy: 0.9891 - val_loss: 0.0237 - val_accuracy: 0.9933\n",
      "Epoch 107/250\n",
      "17/17 - 9s - loss: 0.0342 - accuracy: 0.9887 - val_loss: 0.0266 - val_accuracy: 0.9927\n",
      "Epoch 108/250\n",
      "17/17 - 9s - loss: 0.0330 - accuracy: 0.9894 - val_loss: 0.0187 - val_accuracy: 0.9952\n",
      "Epoch 109/250\n",
      "17/17 - 9s - loss: 0.0323 - accuracy: 0.9899 - val_loss: 0.0213 - val_accuracy: 0.9942\n",
      "Epoch 110/250\n",
      "17/17 - 9s - loss: 0.0321 - accuracy: 0.9890 - val_loss: 0.0199 - val_accuracy: 0.9945\n",
      "Epoch 111/250\n",
      "17/17 - 10s - loss: 0.0319 - accuracy: 0.9897 - val_loss: 0.0196 - val_accuracy: 0.9952\n",
      "Epoch 112/250\n",
      "17/17 - 9s - loss: 0.0339 - accuracy: 0.9892 - val_loss: 0.0210 - val_accuracy: 0.9946\n",
      "Epoch 113/250\n",
      "17/17 - 9s - loss: 0.0358 - accuracy: 0.9878 - val_loss: 0.0231 - val_accuracy: 0.9930\n",
      "Epoch 114/250\n",
      "17/17 - 9s - loss: 0.0322 - accuracy: 0.9902 - val_loss: 0.0159 - val_accuracy: 0.9955\n",
      "Epoch 115/250\n",
      "17/17 - 9s - loss: 0.0320 - accuracy: 0.9904 - val_loss: 0.0222 - val_accuracy: 0.9939\n",
      "Epoch 116/250\n",
      "17/17 - 9s - loss: 0.0307 - accuracy: 0.9895 - val_loss: 0.0219 - val_accuracy: 0.9944\n",
      "Epoch 117/250\n",
      "17/17 - 9s - loss: 0.0301 - accuracy: 0.9903 - val_loss: 0.0178 - val_accuracy: 0.9950\n",
      "Epoch 118/250\n",
      "17/17 - 9s - loss: 0.0297 - accuracy: 0.9907 - val_loss: 0.0181 - val_accuracy: 0.9945\n",
      "Epoch 119/250\n",
      "17/17 - 9s - loss: 0.0282 - accuracy: 0.9909 - val_loss: 0.0160 - val_accuracy: 0.9955\n",
      "Epoch 120/250\n",
      "17/17 - 9s - loss: 0.0319 - accuracy: 0.9898 - val_loss: 0.0180 - val_accuracy: 0.9946\n",
      "Epoch 121/250\n",
      "17/17 - 9s - loss: 0.0311 - accuracy: 0.9901 - val_loss: 0.0200 - val_accuracy: 0.9937\n",
      "Epoch 122/250\n",
      "17/17 - 9s - loss: 0.0301 - accuracy: 0.9901 - val_loss: 0.0207 - val_accuracy: 0.9940\n",
      "Epoch 123/250\n",
      "17/17 - 9s - loss: 0.0319 - accuracy: 0.9902 - val_loss: 0.0194 - val_accuracy: 0.9949\n",
      "Epoch 124/250\n",
      "17/17 - 9s - loss: 0.0297 - accuracy: 0.9906 - val_loss: 0.0165 - val_accuracy: 0.9954\n",
      "Epoch 125/250\n",
      "17/17 - 9s - loss: 0.0301 - accuracy: 0.9903 - val_loss: 0.0192 - val_accuracy: 0.9944\n",
      "Epoch 126/250\n",
      "17/17 - 9s - loss: 0.0307 - accuracy: 0.9907 - val_loss: 0.0207 - val_accuracy: 0.9937\n",
      "Epoch 127/250\n",
      "17/17 - 9s - loss: 0.0309 - accuracy: 0.9904 - val_loss: 0.0168 - val_accuracy: 0.9957\n",
      "Epoch 128/250\n",
      "17/17 - 9s - loss: 0.0272 - accuracy: 0.9913 - val_loss: 0.0192 - val_accuracy: 0.9946\n",
      "Epoch 129/250\n",
      "17/17 - 9s - loss: 0.0269 - accuracy: 0.9917 - val_loss: 0.0206 - val_accuracy: 0.9948\n",
      "Epoch 130/250\n",
      "17/17 - 9s - loss: 0.0289 - accuracy: 0.9911 - val_loss: 0.0217 - val_accuracy: 0.9944\n",
      "Epoch 131/250\n",
      "17/17 - 9s - loss: 0.0292 - accuracy: 0.9902 - val_loss: 0.0190 - val_accuracy: 0.9951\n",
      "Epoch 132/250\n",
      "17/17 - 9s - loss: 0.0281 - accuracy: 0.9909 - val_loss: 0.0185 - val_accuracy: 0.9944\n",
      "Epoch 133/250\n",
      "17/17 - 9s - loss: 0.0307 - accuracy: 0.9901 - val_loss: 0.0170 - val_accuracy: 0.9951\n",
      "Epoch 134/250\n",
      "17/17 - 9s - loss: 0.0280 - accuracy: 0.9908 - val_loss: 0.0219 - val_accuracy: 0.9942\n",
      "Epoch 135/250\n",
      "17/17 - 9s - loss: 0.0280 - accuracy: 0.9909 - val_loss: 0.0196 - val_accuracy: 0.9950\n",
      "Epoch 136/250\n",
      "17/17 - 9s - loss: 0.0310 - accuracy: 0.9902 - val_loss: 0.0228 - val_accuracy: 0.9933\n",
      "Epoch 137/250\n",
      "17/17 - 9s - loss: 0.0276 - accuracy: 0.9913 - val_loss: 0.0182 - val_accuracy: 0.9957\n",
      "Epoch 138/250\n",
      "17/17 - 9s - loss: 0.0278 - accuracy: 0.9915 - val_loss: 0.0174 - val_accuracy: 0.9949\n",
      "Epoch 139/250\n",
      "17/17 - 9s - loss: 0.0266 - accuracy: 0.9909 - val_loss: 0.0173 - val_accuracy: 0.9957\n",
      "Epoch 140/250\n",
      "17/17 - 9s - loss: 0.0273 - accuracy: 0.9908 - val_loss: 0.0167 - val_accuracy: 0.9950\n",
      "Epoch 141/250\n",
      "17/17 - 9s - loss: 0.0272 - accuracy: 0.9915 - val_loss: 0.0193 - val_accuracy: 0.9949\n",
      "Epoch 142/250\n",
      "17/17 - 9s - loss: 0.0251 - accuracy: 0.9923 - val_loss: 0.0177 - val_accuracy: 0.9956\n",
      "Epoch 143/250\n",
      "17/17 - 9s - loss: 0.0268 - accuracy: 0.9918 - val_loss: 0.0214 - val_accuracy: 0.9944\n",
      "Epoch 144/250\n",
      "17/17 - 9s - loss: 0.0270 - accuracy: 0.9914 - val_loss: 0.0180 - val_accuracy: 0.9951\n",
      "Epoch 145/250\n",
      "17/17 - 9s - loss: 0.0265 - accuracy: 0.9912 - val_loss: 0.0198 - val_accuracy: 0.9944\n",
      "Epoch 146/250\n",
      "17/17 - 9s - loss: 0.0275 - accuracy: 0.9921 - val_loss: 0.0202 - val_accuracy: 0.9952\n",
      "Epoch 147/250\n",
      "17/17 - 9s - loss: 0.0271 - accuracy: 0.9910 - val_loss: 0.0216 - val_accuracy: 0.9954\n",
      "Epoch 148/250\n",
      "17/17 - 9s - loss: 0.0264 - accuracy: 0.9914 - val_loss: 0.0209 - val_accuracy: 0.9938\n",
      "Epoch 149/250\n",
      "17/17 - 9s - loss: 0.0263 - accuracy: 0.9926 - val_loss: 0.0227 - val_accuracy: 0.9936\n",
      "Epoch 150/250\n",
      "17/17 - 9s - loss: 0.0241 - accuracy: 0.9918 - val_loss: 0.0167 - val_accuracy: 0.9955\n",
      "Epoch 151/250\n",
      "17/17 - 9s - loss: 0.0238 - accuracy: 0.9928 - val_loss: 0.0225 - val_accuracy: 0.9936\n",
      "Epoch 152/250\n",
      "17/17 - 9s - loss: 0.0254 - accuracy: 0.9918 - val_loss: 0.0226 - val_accuracy: 0.9932\n",
      "Epoch 153/250\n",
      "17/17 - 9s - loss: 0.0269 - accuracy: 0.9912 - val_loss: 0.0176 - val_accuracy: 0.9957\n",
      "Epoch 154/250\n",
      "17/17 - 9s - loss: 0.0249 - accuracy: 0.9920 - val_loss: 0.0226 - val_accuracy: 0.9949\n",
      "Epoch 155/250\n",
      "17/17 - 9s - loss: 0.0279 - accuracy: 0.9911 - val_loss: 0.0176 - val_accuracy: 0.9958\n",
      "Epoch 156/250\n",
      "17/17 - 9s - loss: 0.0257 - accuracy: 0.9923 - val_loss: 0.0191 - val_accuracy: 0.9948\n",
      "Epoch 157/250\n",
      "17/17 - 9s - loss: 0.0245 - accuracy: 0.9918 - val_loss: 0.0212 - val_accuracy: 0.9945\n",
      "Epoch 158/250\n",
      "17/17 - 9s - loss: 0.0258 - accuracy: 0.9916 - val_loss: 0.0189 - val_accuracy: 0.9954\n",
      "Epoch 159/250\n",
      "17/17 - 9s - loss: 0.0236 - accuracy: 0.9923 - val_loss: 0.0178 - val_accuracy: 0.9954\n",
      "Epoch 160/250\n",
      "17/17 - 9s - loss: 0.0213 - accuracy: 0.9933 - val_loss: 0.0179 - val_accuracy: 0.9960\n",
      "Epoch 161/250\n",
      "17/17 - 9s - loss: 0.0264 - accuracy: 0.9922 - val_loss: 0.0195 - val_accuracy: 0.9949\n",
      "Epoch 162/250\n",
      "17/17 - 9s - loss: 0.0233 - accuracy: 0.9929 - val_loss: 0.0176 - val_accuracy: 0.9951\n",
      "Epoch 163/250\n",
      "17/17 - 9s - loss: 0.0225 - accuracy: 0.9933 - val_loss: 0.0184 - val_accuracy: 0.9955\n",
      "Epoch 164/250\n",
      "17/17 - 9s - loss: 0.0224 - accuracy: 0.9935 - val_loss: 0.0187 - val_accuracy: 0.9951\n"
     ]
    },
    {
     "name": "stdout",
     "output_type": "stream",
     "text": [
      "Epoch 165/250\n",
      "17/17 - 9s - loss: 0.0242 - accuracy: 0.9918 - val_loss: 0.0197 - val_accuracy: 0.9942\n",
      "Epoch 166/250\n",
      "17/17 - 9s - loss: 0.0253 - accuracy: 0.9922 - val_loss: 0.0207 - val_accuracy: 0.9939\n",
      "Epoch 167/250\n",
      "17/17 - 9s - loss: 0.0260 - accuracy: 0.9909 - val_loss: 0.0251 - val_accuracy: 0.9933\n",
      "Epoch 168/250\n",
      "17/17 - 9s - loss: 0.0224 - accuracy: 0.9930 - val_loss: 0.0180 - val_accuracy: 0.9951\n",
      "Epoch 169/250\n",
      "17/17 - 9s - loss: 0.0225 - accuracy: 0.9930 - val_loss: 0.0161 - val_accuracy: 0.9961\n",
      "Epoch 170/250\n",
      "17/17 - 9s - loss: 0.0237 - accuracy: 0.9927 - val_loss: 0.0191 - val_accuracy: 0.9948\n",
      "Epoch 171/250\n",
      "17/17 - 9s - loss: 0.0233 - accuracy: 0.9928 - val_loss: 0.0173 - val_accuracy: 0.9956\n",
      "Epoch 172/250\n",
      "17/17 - 9s - loss: 0.0243 - accuracy: 0.9924 - val_loss: 0.0208 - val_accuracy: 0.9943\n",
      "Epoch 173/250\n",
      "17/17 - 9s - loss: 0.0265 - accuracy: 0.9918 - val_loss: 0.0220 - val_accuracy: 0.9943\n",
      "Epoch 174/250\n",
      "17/17 - 9s - loss: 0.0213 - accuracy: 0.9927 - val_loss: 0.0234 - val_accuracy: 0.9940\n",
      "Epoch 175/250\n",
      "17/17 - 9s - loss: 0.0255 - accuracy: 0.9922 - val_loss: 0.0190 - val_accuracy: 0.9956\n",
      "Epoch 176/250\n",
      "17/17 - 9s - loss: 0.0220 - accuracy: 0.9933 - val_loss: 0.0180 - val_accuracy: 0.9956\n",
      "Epoch 177/250\n",
      "17/17 - 9s - loss: 0.0217 - accuracy: 0.9927 - val_loss: 0.0177 - val_accuracy: 0.9957\n",
      "Epoch 178/250\n",
      "17/17 - 9s - loss: 0.0228 - accuracy: 0.9929 - val_loss: 0.0172 - val_accuracy: 0.9952\n",
      "Epoch 179/250\n",
      "17/17 - 9s - loss: 0.0248 - accuracy: 0.9918 - val_loss: 0.0189 - val_accuracy: 0.9933\n",
      "Epoch 180/250\n",
      "17/17 - 9s - loss: 0.0223 - accuracy: 0.9932 - val_loss: 0.0189 - val_accuracy: 0.9957\n",
      "Epoch 181/250\n",
      "17/17 - 9s - loss: 0.0227 - accuracy: 0.9926 - val_loss: 0.0194 - val_accuracy: 0.9952\n",
      "Epoch 182/250\n",
      "17/17 - 9s - loss: 0.0231 - accuracy: 0.9925 - val_loss: 0.0176 - val_accuracy: 0.9963\n",
      "Epoch 183/250\n",
      "17/17 - 9s - loss: 0.0206 - accuracy: 0.9933 - val_loss: 0.0216 - val_accuracy: 0.9948\n",
      "Epoch 184/250\n",
      "17/17 - 9s - loss: 0.0233 - accuracy: 0.9930 - val_loss: 0.0191 - val_accuracy: 0.9946\n",
      "Epoch 185/250\n",
      "17/17 - 9s - loss: 0.0228 - accuracy: 0.9930 - val_loss: 0.0179 - val_accuracy: 0.9954\n",
      "Epoch 186/250\n",
      "17/17 - 9s - loss: 0.0211 - accuracy: 0.9935 - val_loss: 0.0197 - val_accuracy: 0.9949\n",
      "Epoch 187/250\n",
      "17/17 - 9s - loss: 0.0218 - accuracy: 0.9932 - val_loss: 0.0186 - val_accuracy: 0.9948\n",
      "Epoch 188/250\n",
      "17/17 - 9s - loss: 0.0220 - accuracy: 0.9930 - val_loss: 0.0200 - val_accuracy: 0.9949\n",
      "Epoch 189/250\n",
      "17/17 - 9s - loss: 0.0197 - accuracy: 0.9938 - val_loss: 0.0185 - val_accuracy: 0.9948\n",
      "Epoch 190/250\n",
      "17/17 - 9s - loss: 0.0220 - accuracy: 0.9928 - val_loss: 0.0163 - val_accuracy: 0.9954\n",
      "Epoch 191/250\n",
      "17/17 - 9s - loss: 0.0203 - accuracy: 0.9936 - val_loss: 0.0209 - val_accuracy: 0.9955\n",
      "Epoch 192/250\n",
      "17/17 - 9s - loss: 0.0189 - accuracy: 0.9935 - val_loss: 0.0183 - val_accuracy: 0.9954\n",
      "Epoch 193/250\n",
      "17/17 - 9s - loss: 0.0200 - accuracy: 0.9939 - val_loss: 0.0212 - val_accuracy: 0.9935\n",
      "Epoch 194/250\n",
      "17/17 - 9s - loss: 0.0237 - accuracy: 0.9928 - val_loss: 0.0165 - val_accuracy: 0.9954\n",
      "Epoch 195/250\n",
      "17/17 - 9s - loss: 0.0195 - accuracy: 0.9937 - val_loss: 0.0175 - val_accuracy: 0.9956\n",
      "Epoch 196/250\n",
      "17/17 - 9s - loss: 0.0206 - accuracy: 0.9932 - val_loss: 0.0208 - val_accuracy: 0.9938\n",
      "Epoch 197/250\n",
      "17/17 - 9s - loss: 0.0201 - accuracy: 0.9937 - val_loss: 0.0161 - val_accuracy: 0.9951\n",
      "Epoch 198/250\n",
      "17/17 - 9s - loss: 0.0209 - accuracy: 0.9937 - val_loss: 0.0201 - val_accuracy: 0.9945\n",
      "Epoch 199/250\n",
      "17/17 - 9s - loss: 0.0225 - accuracy: 0.9930 - val_loss: 0.0193 - val_accuracy: 0.9939\n",
      "Epoch 200/250\n",
      "17/17 - 9s - loss: 0.0207 - accuracy: 0.9932 - val_loss: 0.0155 - val_accuracy: 0.9952\n",
      "Epoch 201/250\n",
      "17/17 - 9s - loss: 0.0223 - accuracy: 0.9929 - val_loss: 0.0174 - val_accuracy: 0.9950\n",
      "Epoch 202/250\n",
      "17/17 - 9s - loss: 0.0200 - accuracy: 0.9938 - val_loss: 0.0217 - val_accuracy: 0.9935\n",
      "Epoch 203/250\n",
      "17/17 - 9s - loss: 0.0206 - accuracy: 0.9931 - val_loss: 0.0177 - val_accuracy: 0.9960\n",
      "Epoch 204/250\n",
      "17/17 - 9s - loss: 0.0208 - accuracy: 0.9932 - val_loss: 0.0183 - val_accuracy: 0.9954\n",
      "Epoch 205/250\n",
      "17/17 - 9s - loss: 0.0181 - accuracy: 0.9945 - val_loss: 0.0215 - val_accuracy: 0.9949\n",
      "Epoch 206/250\n",
      "17/17 - 9s - loss: 0.0190 - accuracy: 0.9938 - val_loss: 0.0169 - val_accuracy: 0.9955\n",
      "Epoch 207/250\n",
      "17/17 - 9s - loss: 0.0201 - accuracy: 0.9938 - val_loss: 0.0194 - val_accuracy: 0.9951\n",
      "Epoch 208/250\n",
      "17/17 - 9s - loss: 0.0200 - accuracy: 0.9936 - val_loss: 0.0177 - val_accuracy: 0.9952\n",
      "Epoch 209/250\n",
      "17/17 - 9s - loss: 0.0182 - accuracy: 0.9943 - val_loss: 0.0252 - val_accuracy: 0.9946\n",
      "Epoch 210/250\n",
      "17/17 - 9s - loss: 0.0195 - accuracy: 0.9938 - val_loss: 0.0220 - val_accuracy: 0.9942\n",
      "Epoch 211/250\n",
      "17/17 - 9s - loss: 0.0187 - accuracy: 0.9939 - val_loss: 0.0236 - val_accuracy: 0.9943\n",
      "Epoch 212/250\n",
      "17/17 - 9s - loss: 0.0228 - accuracy: 0.9933 - val_loss: 0.0190 - val_accuracy: 0.9950\n",
      "Epoch 213/250\n",
      "17/17 - 9s - loss: 0.0192 - accuracy: 0.9942 - val_loss: 0.0201 - val_accuracy: 0.9948\n",
      "Epoch 214/250\n",
      "17/17 - 9s - loss: 0.0192 - accuracy: 0.9940 - val_loss: 0.0185 - val_accuracy: 0.9950\n",
      "Epoch 215/250\n",
      "17/17 - 9s - loss: 0.0191 - accuracy: 0.9936 - val_loss: 0.0218 - val_accuracy: 0.9943\n",
      "Epoch 216/250\n",
      "17/17 - 9s - loss: 0.0201 - accuracy: 0.9935 - val_loss: 0.0178 - val_accuracy: 0.9961\n",
      "Epoch 217/250\n",
      "17/17 - 9s - loss: 0.0195 - accuracy: 0.9933 - val_loss: 0.0208 - val_accuracy: 0.9949\n",
      "Epoch 218/250\n",
      "17/17 - 9s - loss: 0.0213 - accuracy: 0.9932 - val_loss: 0.0230 - val_accuracy: 0.9948\n",
      "Epoch 219/250\n",
      "17/17 - 9s - loss: 0.0192 - accuracy: 0.9936 - val_loss: 0.0216 - val_accuracy: 0.9949\n",
      "Epoch 220/250\n",
      "17/17 - 9s - loss: 0.0209 - accuracy: 0.9930 - val_loss: 0.0219 - val_accuracy: 0.9950\n",
      "Epoch 221/250\n",
      "17/17 - 9s - loss: 0.0185 - accuracy: 0.9942 - val_loss: 0.0205 - val_accuracy: 0.9948\n",
      "Epoch 222/250\n",
      "17/17 - 9s - loss: 0.0163 - accuracy: 0.9947 - val_loss: 0.0256 - val_accuracy: 0.9938\n",
      "Epoch 223/250\n",
      "17/17 - 9s - loss: 0.0196 - accuracy: 0.9935 - val_loss: 0.0227 - val_accuracy: 0.9939\n",
      "Epoch 224/250\n",
      "17/17 - 9s - loss: 0.0182 - accuracy: 0.9946 - val_loss: 0.0220 - val_accuracy: 0.9943\n",
      "Epoch 225/250\n",
      "17/17 - 9s - loss: 0.0190 - accuracy: 0.9939 - val_loss: 0.0231 - val_accuracy: 0.9943\n",
      "Epoch 226/250\n",
      "17/17 - 9s - loss: 0.0202 - accuracy: 0.9933 - val_loss: 0.0203 - val_accuracy: 0.9951\n",
      "Epoch 227/250\n",
      "17/17 - 9s - loss: 0.0208 - accuracy: 0.9935 - val_loss: 0.0189 - val_accuracy: 0.9949\n",
      "Epoch 228/250\n",
      "17/17 - 9s - loss: 0.0219 - accuracy: 0.9930 - val_loss: 0.0186 - val_accuracy: 0.9960\n",
      "Epoch 229/250\n",
      "17/17 - 9s - loss: 0.0186 - accuracy: 0.9938 - val_loss: 0.0215 - val_accuracy: 0.9950\n",
      "Epoch 230/250\n",
      "17/17 - 9s - loss: 0.0197 - accuracy: 0.9942 - val_loss: 0.0210 - val_accuracy: 0.9946\n",
      "Epoch 231/250\n",
      "17/17 - 9s - loss: 0.0175 - accuracy: 0.9941 - val_loss: 0.0228 - val_accuracy: 0.9943\n",
      "Epoch 232/250\n",
      "17/17 - 9s - loss: 0.0195 - accuracy: 0.9942 - val_loss: 0.0216 - val_accuracy: 0.9944\n",
      "Epoch 233/250\n",
      "17/17 - 9s - loss: 0.0199 - accuracy: 0.9938 - val_loss: 0.0160 - val_accuracy: 0.9963\n",
      "Epoch 234/250\n",
      "17/17 - 9s - loss: 0.0168 - accuracy: 0.9945 - val_loss: 0.0203 - val_accuracy: 0.9954\n",
      "Epoch 235/250\n",
      "17/17 - 9s - loss: 0.0162 - accuracy: 0.9950 - val_loss: 0.0188 - val_accuracy: 0.9961\n",
      "Epoch 236/250\n",
      "17/17 - 9s - loss: 0.0172 - accuracy: 0.9948 - val_loss: 0.0199 - val_accuracy: 0.9952\n",
      "Epoch 237/250\n",
      "17/17 - 9s - loss: 0.0185 - accuracy: 0.9939 - val_loss: 0.0185 - val_accuracy: 0.9946\n",
      "Epoch 238/250\n",
      "17/17 - 9s - loss: 0.0176 - accuracy: 0.9939 - val_loss: 0.0225 - val_accuracy: 0.9943\n",
      "Epoch 239/250\n",
      "17/17 - 9s - loss: 0.0193 - accuracy: 0.9940 - val_loss: 0.0201 - val_accuracy: 0.9940\n",
      "Epoch 240/250\n",
      "17/17 - 9s - loss: 0.0181 - accuracy: 0.9940 - val_loss: 0.0208 - val_accuracy: 0.9956\n",
      "Epoch 241/250\n",
      "17/17 - 9s - loss: 0.0188 - accuracy: 0.9942 - val_loss: 0.0218 - val_accuracy: 0.9954\n",
      "Epoch 242/250\n",
      "17/17 - 9s - loss: 0.0201 - accuracy: 0.9934 - val_loss: 0.0222 - val_accuracy: 0.9946\n",
      "Epoch 243/250\n",
      "17/17 - 9s - loss: 0.0185 - accuracy: 0.9942 - val_loss: 0.0225 - val_accuracy: 0.9948\n",
      "Epoch 244/250\n",
      "17/17 - 9s - loss: 0.0155 - accuracy: 0.9950 - val_loss: 0.0175 - val_accuracy: 0.9956\n",
      "Epoch 245/250\n",
      "17/17 - 9s - loss: 0.0152 - accuracy: 0.9952 - val_loss: 0.0190 - val_accuracy: 0.9945\n",
      "Epoch 246/250\n"
     ]
    },
    {
     "name": "stdout",
     "output_type": "stream",
     "text": [
      "17/17 - 9s - loss: 0.0192 - accuracy: 0.9938 - val_loss: 0.0173 - val_accuracy: 0.9948\n",
      "Epoch 247/250\n",
      "17/17 - 9s - loss: 0.0179 - accuracy: 0.9945 - val_loss: 0.0202 - val_accuracy: 0.9945\n",
      "Epoch 248/250\n",
      "17/17 - 9s - loss: 0.0166 - accuracy: 0.9948 - val_loss: 0.0191 - val_accuracy: 0.9952\n",
      "Epoch 249/250\n",
      "17/17 - 9s - loss: 0.0151 - accuracy: 0.9954 - val_loss: 0.0216 - val_accuracy: 0.9949\n",
      "Epoch 250/250\n",
      "17/17 - 9s - loss: 0.0164 - accuracy: 0.9950 - val_loss: 0.0184 - val_accuracy: 0.9954\n"
     ]
    }
   ],
   "source": [
    "hist = model.fit_generator(train_generator,\n",
    "                           steps_per_epoch = len(train_generator),\n",
    "                           epochs = 250,\n",
    "                           validation_data = validation_generator,\n",
    "                           verbose = 2,\n",
    "                           validation_steps = len(validation_generator),\n",
    "                           validation_freq = 1)"
   ]
  },
  {
   "cell_type": "markdown",
   "metadata": {},
   "source": [
    "# Plotting the Losses"
   ]
  },
  {
   "cell_type": "code",
   "execution_count": 21,
   "metadata": {},
   "outputs": [
    {
     "data": {
      "image/png": "[encoded data removed]",
      "text/plain": [
       "<Figure size 864x360 with 2 Axes>"
      ]
     },
     "metadata": {
      "needs_background": "light"
     },
     "output_type": "display_data"
    }
   ],
   "source": [
    "def plot_loss(history):\n",
    "    acc = history.history['accuracy']\n",
    "    val_acc = history.history['val_accuracy']\n",
    "    loss = history.history['loss']\n",
    "    val_loss = history.history['val_loss']\n",
    "\n",
    "    epochs = range(len(acc))\n",
    "\n",
    "    plt.figure(figsize=(12,5))\n",
    "\n",
    "    plt.subplot(1,2,1)\n",
    "    plt.plot(epochs, acc, 'b', label='Training acc')\n",
    "    plt.plot(epochs, val_acc, 'r', label='Validation acc')\n",
    "    plt.title('Training and validation accuracy')\n",
    "    plt.legend()\n",
    "\n",
    "    plt.subplot(1,2,2)\n",
    "    plt.plot(epochs, loss, 'b', label='Training loss')\n",
    "    plt.plot(epochs, val_loss, 'r', label='Validation loss')\n",
    "    plt.title('Training and validation loss')\n",
    "    plt.legend()\n",
    "\n",
    "    plt.show()\n",
    "\n",
    "\n",
    "plot_loss(hist)"
   ]
  },
  {
   "cell_type": "markdown",
   "metadata": {},
   "source": [
    "# Saving the Model"
   ]
  },
  {
   "cell_type": "code",
   "execution_count": 22,
   "metadata": {},
   "outputs": [],
   "source": [
    "model.save('model_Keras.h5')"
   ]
  },
  {
   "cell_type": "markdown",
   "metadata": {
    "colab_type": "text",
    "id": "F3r4Tsj5lgZp"
   },
   "source": [
    "# Evaluating the Model"
   ]
  },
  {
   "cell_type": "code",
   "execution_count": 23,
   "metadata": {},
   "outputs": [
    {
     "name": "stdout",
     "output_type": "stream",
     "text": [
      "Train Loss:  0.016600476358743274\n",
      "Train Acc:  0.9947917\n"
     ]
    }
   ],
   "source": [
    "train_loss, train_acc = model.evaluate_generator(train_generator, steps = len(train_generator))\n",
    "print(\"Train Loss: \", train_loss)\n",
    "print(\"Train Acc: \", train_acc)"
   ]
  },
  {
   "cell_type": "code",
   "execution_count": 24,
   "metadata": {},
   "outputs": [
    {
     "name": "stdout",
     "output_type": "stream",
     "text": [
      "Validation Loss:  0.01838196912108829\n",
      "Validation Acc:  0.99535716\n"
     ]
    }
   ],
   "source": [
    "validation_loss, validation_acc = model.evaluate_generator(validation_generator, steps = len(validation_generator))\n",
    "print(\"Validation Loss: \", validation_loss)\n",
    "print(\"Validation Acc: \", validation_acc)"
   ]
  },
  {
   "cell_type": "markdown",
   "metadata": {},
   "source": [
    "# Getting the Test Data"
   ]
  },
  {
   "cell_type": "code",
   "execution_count": 25,
   "metadata": {},
   "outputs": [
    {
     "data": {
      "text/html": [
       "<div>\n",
       "<style scoped>\n",
       "    .dataframe tbody tr th:only-of-type {\n",
       "        vertical-align: middle;\n",
       "    }\n",
       "\n",
       "    .dataframe tbody tr th {\n",
       "        vertical-align: top;\n",
       "    }\n",
       "\n",
       "    .dataframe thead th {\n",
       "        text-align: right;\n",
       "    }\n",
       "</style>\n",
       "<table border=\"1\" class=\"dataframe\">\n",
       "  <thead>\n",
       "    <tr style=\"text-align: right;\">\n",
       "      <th></th>\n",
       "      <th>pixel0</th>\n",
       "      <th>pixel1</th>\n",
       "      <th>pixel2</th>\n",
       "      <th>pixel3</th>\n",
       "      <th>pixel4</th>\n",
       "      <th>pixel5</th>\n",
       "      <th>pixel6</th>\n",
       "      <th>pixel7</th>\n",
       "      <th>pixel8</th>\n",
       "      <th>pixel9</th>\n",
       "      <th>...</th>\n",
       "      <th>pixel774</th>\n",
       "      <th>pixel775</th>\n",
       "      <th>pixel776</th>\n",
       "      <th>pixel777</th>\n",
       "      <th>pixel778</th>\n",
       "      <th>pixel779</th>\n",
       "      <th>pixel780</th>\n",
       "      <th>pixel781</th>\n",
       "      <th>pixel782</th>\n",
       "      <th>pixel783</th>\n",
       "    </tr>\n",
       "  </thead>\n",
       "  <tbody>\n",
       "    <tr>\n",
       "      <th>0</th>\n",
       "      <td>0</td>\n",
       "      <td>0</td>\n",
       "      <td>0</td>\n",
       "      <td>0</td>\n",
       "      <td>0</td>\n",
       "      <td>0</td>\n",
       "      <td>0</td>\n",
       "      <td>0</td>\n",
       "      <td>0</td>\n",
       "      <td>0</td>\n",
       "      <td>...</td>\n",
       "      <td>0</td>\n",
       "      <td>0</td>\n",
       "      <td>0</td>\n",
       "      <td>0</td>\n",
       "      <td>0</td>\n",
       "      <td>0</td>\n",
       "      <td>0</td>\n",
       "      <td>0</td>\n",
       "      <td>0</td>\n",
       "      <td>0</td>\n",
       "    </tr>\n",
       "    <tr>\n",
       "      <th>1</th>\n",
       "      <td>0</td>\n",
       "      <td>0</td>\n",
       "      <td>0</td>\n",
       "      <td>0</td>\n",
       "      <td>0</td>\n",
       "      <td>0</td>\n",
       "      <td>0</td>\n",
       "      <td>0</td>\n",
       "      <td>0</td>\n",
       "      <td>0</td>\n",
       "      <td>...</td>\n",
       "      <td>0</td>\n",
       "      <td>0</td>\n",
       "      <td>0</td>\n",
       "      <td>0</td>\n",
       "      <td>0</td>\n",
       "      <td>0</td>\n",
       "      <td>0</td>\n",
       "      <td>0</td>\n",
       "      <td>0</td>\n",
       "      <td>0</td>\n",
       "    </tr>\n",
       "    <tr>\n",
       "      <th>2</th>\n",
       "      <td>0</td>\n",
       "      <td>0</td>\n",
       "      <td>0</td>\n",
       "      <td>0</td>\n",
       "      <td>0</td>\n",
       "      <td>0</td>\n",
       "      <td>0</td>\n",
       "      <td>0</td>\n",
       "      <td>0</td>\n",
       "      <td>0</td>\n",
       "      <td>...</td>\n",
       "      <td>0</td>\n",
       "      <td>0</td>\n",
       "      <td>0</td>\n",
       "      <td>0</td>\n",
       "      <td>0</td>\n",
       "      <td>0</td>\n",
       "      <td>0</td>\n",
       "      <td>0</td>\n",
       "      <td>0</td>\n",
       "      <td>0</td>\n",
       "    </tr>\n",
       "    <tr>\n",
       "      <th>3</th>\n",
       "      <td>0</td>\n",
       "      <td>0</td>\n",
       "      <td>0</td>\n",
       "      <td>0</td>\n",
       "      <td>0</td>\n",
       "      <td>0</td>\n",
       "      <td>0</td>\n",
       "      <td>0</td>\n",
       "      <td>0</td>\n",
       "      <td>0</td>\n",
       "      <td>...</td>\n",
       "      <td>0</td>\n",
       "      <td>0</td>\n",
       "      <td>0</td>\n",
       "      <td>0</td>\n",
       "      <td>0</td>\n",
       "      <td>0</td>\n",
       "      <td>0</td>\n",
       "      <td>0</td>\n",
       "      <td>0</td>\n",
       "      <td>0</td>\n",
       "    </tr>\n",
       "    <tr>\n",
       "      <th>4</th>\n",
       "      <td>0</td>\n",
       "      <td>0</td>\n",
       "      <td>0</td>\n",
       "      <td>0</td>\n",
       "      <td>0</td>\n",
       "      <td>0</td>\n",
       "      <td>0</td>\n",
       "      <td>0</td>\n",
       "      <td>0</td>\n",
       "      <td>0</td>\n",
       "      <td>...</td>\n",
       "      <td>0</td>\n",
       "      <td>0</td>\n",
       "      <td>0</td>\n",
       "      <td>0</td>\n",
       "      <td>0</td>\n",
       "      <td>0</td>\n",
       "      <td>0</td>\n",
       "      <td>0</td>\n",
       "      <td>0</td>\n",
       "      <td>0</td>\n",
       "    </tr>\n",
       "  </tbody>\n",
       "</table>\n",
       "<p>5 rows × 784 columns</p>\n",
       "</div>"
      ],
      "text/plain": [
       "   pixel0  pixel1  pixel2  pixel3  pixel4  pixel5  pixel6  pixel7  pixel8  \\\n",
       "0       0       0       0       0       0       0       0       0       0   \n",
       "1       0       0       0       0       0       0       0       0       0   \n",
       "2       0       0       0       0       0       0       0       0       0   \n",
       "3       0       0       0       0       0       0       0       0       0   \n",
       "4       0       0       0       0       0       0       0       0       0   \n",
       "\n",
       "   pixel9  ...  pixel774  pixel775  pixel776  pixel777  pixel778  pixel779  \\\n",
       "0       0  ...         0         0         0         0         0         0   \n",
       "1       0  ...         0         0         0         0         0         0   \n",
       "2       0  ...         0         0         0         0         0         0   \n",
       "3       0  ...         0         0         0         0         0         0   \n",
       "4       0  ...         0         0         0         0         0         0   \n",
       "\n",
       "   pixel780  pixel781  pixel782  pixel783  \n",
       "0         0         0         0         0  \n",
       "1         0         0         0         0  \n",
       "2         0         0         0         0  \n",
       "3         0         0         0         0  \n",
       "4         0         0         0         0  \n",
       "\n",
       "[5 rows x 784 columns]"
      ]
     },
     "execution_count": 25,
     "metadata": {},
     "output_type": "execute_result"
    }
   ],
   "source": [
    "test_data = pd.read_csv(\"test.csv\")\n",
    "test_data.head()"
   ]
  },
  {
   "cell_type": "markdown",
   "metadata": {},
   "source": [
    "# Reshaping the Test Data"
   ]
  },
  {
   "cell_type": "code",
   "execution_count": 26,
   "metadata": {},
   "outputs": [
    {
     "name": "stdout",
     "output_type": "stream",
     "text": [
      "(28000, 28, 28, 1)\n"
     ]
    }
   ],
   "source": [
    "X_test = test_data.to_numpy().reshape(-1, 28, 28, 1)\n",
    "print(X_test.shape)"
   ]
  },
  {
   "cell_type": "markdown",
   "metadata": {},
   "source": [
    "# Rescaling the Test Input"
   ]
  },
  {
   "cell_type": "code",
   "execution_count": 27,
   "metadata": {},
   "outputs": [],
   "source": [
    "X_test = X_test / 255"
   ]
  },
  {
   "cell_type": "markdown",
   "metadata": {
    "colab_type": "text",
    "id": "UuH5oYMAyjrZ"
   },
   "source": [
    "# Predicting the Labels of the Test Data"
   ]
  },
  {
   "cell_type": "code",
   "execution_count": 28,
   "metadata": {
    "colab": {
     "base_uri": "https://localhost:8080/",
     "height": 235
    },
    "colab_type": "code",
    "id": "TKej1tS9y8hm",
    "outputId": "8fcbc782-ca5a-4fed-d391-479d36ed6a9f"
   },
   "outputs": [
    {
     "name": "stdout",
     "output_type": "stream",
     "text": [
      "(28000, 10)\n"
     ]
    }
   ],
   "source": [
    "pred_probs = model.predict(X_test, batch_size = 2048)\n",
    "print(pred_probs.shape)"
   ]
  },
  {
   "cell_type": "code",
   "execution_count": 29,
   "metadata": {
    "colab": {
     "base_uri": "https://localhost:8080/",
     "height": 34
    },
    "colab_type": "code",
    "id": "KZu5aUAKzrBb",
    "outputId": "3d827f53-aab3-4c52-bbbd-e4999f720752"
   },
   "outputs": [
    {
     "data": {
      "text/plain": [
       "(28000,)"
      ]
     },
     "execution_count": 29,
     "metadata": {},
     "output_type": "execute_result"
    }
   ],
   "source": [
    "pred_labels = pred_probs.argmax(axis=1)\n",
    "pred_labels.shape"
   ]
  },
  {
   "cell_type": "markdown",
   "metadata": {
    "colab_type": "text",
    "id": "fOQ7pOyFwoPB"
   },
   "source": [
    "# Creating the Output CSV File"
   ]
  },
  {
   "cell_type": "code",
   "execution_count": 30,
   "metadata": {},
   "outputs": [
    {
     "data": {
      "text/plain": [
       "array([    1,     2,     3, ..., 27998, 27999, 28000])"
      ]
     },
     "execution_count": 30,
     "metadata": {},
     "output_type": "execute_result"
    }
   ],
   "source": [
    "imageid = np.arange(pred_labels.shape[0]) + 1\n",
    "imageid"
   ]
  },
  {
   "cell_type": "code",
   "execution_count": 31,
   "metadata": {},
   "outputs": [
    {
     "data": {
      "text/html": [
       "<div>\n",
       "<style scoped>\n",
       "    .dataframe tbody tr th:only-of-type {\n",
       "        vertical-align: middle;\n",
       "    }\n",
       "\n",
       "    .dataframe tbody tr th {\n",
       "        vertical-align: top;\n",
       "    }\n",
       "\n",
       "    .dataframe thead th {\n",
       "        text-align: right;\n",
       "    }\n",
       "</style>\n",
       "<table border=\"1\" class=\"dataframe\">\n",
       "  <thead>\n",
       "    <tr style=\"text-align: right;\">\n",
       "      <th></th>\n",
       "      <th>ImageId</th>\n",
       "      <th>Label</th>\n",
       "    </tr>\n",
       "  </thead>\n",
       "  <tbody>\n",
       "    <tr>\n",
       "      <th>0</th>\n",
       "      <td>1</td>\n",
       "      <td>2</td>\n",
       "    </tr>\n",
       "    <tr>\n",
       "      <th>1</th>\n",
       "      <td>2</td>\n",
       "      <td>0</td>\n",
       "    </tr>\n",
       "    <tr>\n",
       "      <th>2</th>\n",
       "      <td>3</td>\n",
       "      <td>9</td>\n",
       "    </tr>\n",
       "    <tr>\n",
       "      <th>3</th>\n",
       "      <td>4</td>\n",
       "      <td>0</td>\n",
       "    </tr>\n",
       "    <tr>\n",
       "      <th>4</th>\n",
       "      <td>5</td>\n",
       "      <td>3</td>\n",
       "    </tr>\n",
       "  </tbody>\n",
       "</table>\n",
       "</div>"
      ],
      "text/plain": [
       "   ImageId  Label\n",
       "0        1      2\n",
       "1        2      0\n",
       "2        3      9\n",
       "3        4      0\n",
       "4        5      3"
      ]
     },
     "execution_count": 31,
     "metadata": {},
     "output_type": "execute_result"
    }
   ],
   "source": [
    "df = pd.DataFrame({'ImageId': imageid, 'Label': pred_labels})\n",
    "df.head()"
   ]
  },
  {
   "cell_type": "code",
   "execution_count": 32,
   "metadata": {},
   "outputs": [],
   "source": [
    "df.to_csv('output_Keras.csv', index = False)"
   ]
  },
  {
   "cell_type": "markdown",
   "metadata": {},
   "source": [
    "**This model gave a score of 0.99442 (~99.44% accuracy) when the output was submitted to Kaggle**"
   ]
  }
 ],
 "metadata": {
  "accelerator": "TPU",
  "colab": {
   "collapsed_sections": [],
   "name": "Keras_Implementation.ipynb",
   "provenance": [],
   "version": "0.3.2"
  },
  "kernelspec": {
   "display_name": "Python 3",
   "language": "python",
   "name": "python3"
  },
  "language_info": {
   "codemirror_mode": {
    "name": "ipython",
    "version": 3
   },
   "file_extension": ".py",
   "mimetype": "text/x-python",
   "name": "python",
   "nbconvert_exporter": "python",
   "pygments_lexer": "ipython3",
   "version": "3.7.3"
  }
 },
 "nbformat": 4,
 "nbformat_minor": 1
}
